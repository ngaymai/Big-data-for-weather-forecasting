{
 "cells": [
  {
   "cell_type": "markdown",
   "metadata": {
    "application/vnd.databricks.v1+cell": {
     "cellMetadata": {
      "byteLimit": 2048000,
      "rowLimit": 10000
     },
     "inputWidgets": {},
     "nuid": "81a78200-eeac-4e26-9afa-cb556751b238",
     "showTitle": false,
     "title": ""
    }
   },
   "source": [
    "## Define some global constants"
   ]
  },
  {
   "cell_type": "code",
   "execution_count": 0,
   "metadata": {
    "application/vnd.databricks.v1+cell": {
     "cellMetadata": {
      "byteLimit": 2048000,
      "rowLimit": 10000
     },
     "inputWidgets": {},
     "nuid": "7c02dea2-d3da-4f60-a576-1d63e49a11e0",
     "showTitle": false,
     "title": ""
    }
   },
   "outputs": [],
   "source": [
    "DATASET_PATH: str = 'dbfs:/bdc-2020-21/datasets/historical-hourly-weather/'\n",
    "MODELS_PATH: str = 'dbfs:/bdc-2020-21/models/historical-hourly-weather/'\n",
    "\n",
    "RANDOM_SEED: int = 42\n",
    "  \n",
    "SLOW_OPERATIONS: bool = True\n",
    "  \n",
    "# True to save the computation of datataset preprocessing, fitted pipelines and trained models to the filesystem\n",
    "SAVE_COMPUTATIONS: bool = True\n",
    "  \n",
    "# True to load the sampled dataset from the filesystem, False to compute it from the raw one\n",
    "LOAD_SAMPLED_DATASET: bool = True\n",
    "SAMPLED_DATASET_PATH: str = f'{DATASET_PATH}aggregated_sampled_weather_measurements.csv'\n",
    "  \n",
    "# True to load the encoding pipeline from the filesystem, False to compute it from scratch\n",
    "LOAD_ECONDING_PIPELINE: bool = False\n",
    "ENCODING_PIPELINE_PATH: str = f'{MODELS_PATH}data_encoder'\n",
    "\n",
    "# True to load pretrained models from the filesystem, False to compute them from scratch\n",
    "LOAD_PRETRAINED_MODELS: bool = False\n",
    "RANDOM_FOREST_MODEL_PATH: str = f'{MODELS_PATH}rnd_forest'\n",
    "RANDOM_FOREST_CROSS_VALIDATION_MODEL_PATH: str = f'{MODELS_PATH}rnd_forest_cv'\n",
    "LOGISTIC_REGRESSION_CROSS_VALIDATION_MODEL_PATH: str = f'{MODELS_PATH}log_reg_cv'\n",
    "\n",
    "# necessary due to DataBricks community edition limits (training on a dataframe larger than this threshold causes an Internal Server Error)\n",
    "MAX_TRAIN_SIZE: int = 999_999"
   ]
  },
  {
   "cell_type": "markdown",
   "metadata": {
    "application/vnd.databricks.v1+cell": {
     "cellMetadata": {
      "byteLimit": 2048000,
      "rowLimit": 10000
     },
     "inputWidgets": {},
     "nuid": "c8ba324d-2cdc-4c80-9a1a-afbfd5939212",
     "showTitle": false,
     "title": ""
    }
   },
   "source": [
    "## Import PySpark packages and other dependencies"
   ]
  },
  {
   "cell_type": "code",
   "execution_count": 0,
   "metadata": {
    "application/vnd.databricks.v1+cell": {
     "cellMetadata": {
      "byteLimit": 2048000,
      "rowLimit": 10000
     },
     "inputWidgets": {},
     "nuid": "3ad2abf6-dae0-492a-ae76-bf3074217bd3",
     "showTitle": false,
     "title": ""
    }
   },
   "outputs": [],
   "source": [
    "import pyspark\n",
    "import numpy as np\n",
    "import databricks.koalas as ks\n",
    "import matplotlib.pyplot as plt\n",
    "\n",
    "from pyspark import SparkContext, SparkConf\n",
    "\n",
    "from pyspark.sql import *\n",
    "from pyspark.sql.types import *\n",
    "from pyspark.sql.functions import *\n",
    "\n",
    "from pyspark.ml.pipeline import PipelineModel\n",
    "from pyspark.ml.tuning import CrossValidatorModel\n",
    "\n",
    "from typing import *"
   ]
  },
  {
   "cell_type": "markdown",
   "metadata": {
    "application/vnd.databricks.v1+cell": {
     "cellMetadata": {
      "byteLimit": 2048000,
      "rowLimit": 10000
     },
     "inputWidgets": {},
     "nuid": "50e546d7-be32-44d2-bb03-b9012ae7322a",
     "showTitle": false,
     "title": ""
    }
   },
   "source": [
    "## Dataset initialization"
   ]
  },
  {
   "cell_type": "markdown",
   "metadata": {
    "application/vnd.databricks.v1+cell": {
     "cellMetadata": {
      "byteLimit": 2048000,
      "rowLimit": 10000
     },
     "inputWidgets": {},
     "nuid": "b2bbccd4-93b8-4565-9670-16ad7820d01a",
     "showTitle": false,
     "title": ""
    }
   },
   "source": [
    "### Download the dataset\n",
    "\n",
    "Original source: [kaggle.com/selfishgene/historical-hourly-weather-data](https://www.kaggle.com/selfishgene/historical-hourly-weather-data)"
   ]
  },
  {
   "cell_type": "code",
   "execution_count": 0,
   "metadata": {
    "application/vnd.databricks.v1+cell": {
     "cellMetadata": {
      "byteLimit": 2048000,
      "rowLimit": 10000
     },
     "inputWidgets": {},
     "nuid": "8caad53b-56b6-4a99-bbf1-1ba85e948143",
     "showTitle": false,
     "title": ""
    }
   },
   "outputs": [
    {
     "output_type": "stream",
     "name": "stdout",
     "output_type": "stream",
     "text": [
      "2023-11-17 16:13:02 URL:https://raw.githubusercontent.com/andrea-gasparini/big-data-weather-forecasting/master/dataset/historical-hourly-weather-dataset.zip [12655281/12655281] -> \"/tmp/dataset.zip\" [1]\nArchive:  /tmp/dataset.zip\n   creating: /tmp/dataset/aggregated_sampled_weather_measurements.csv/\n  inflating: /tmp/dataset/aggregated_sampled_weather_measurements.csv/._committed_7616641238230246128.crc  \n  inflating: /tmp/dataset/aggregated_sampled_weather_measurements.csv/.part-00000-tid-5785058191842647654-99694b27-5637-4d82-97fd-79413e3b2b1a-5515-1-c000.csv.crc  \n  inflating: /tmp/dataset/aggregated_sampled_weather_measurements.csv/.part-00006-tid-5785058191842647654-99694b27-5637-4d82-97fd-79413e3b2b1a-5521-1-c000.csv.crc  \n  inflating: /tmp/dataset/aggregated_sampled_weather_measurements.csv/.part-00002-tid-5785058191842647654-99694b27-5637-4d82-97fd-79413e3b2b1a-5517-1-c000.csv.crc  \n  inflating: /tmp/dataset/aggregated_sampled_weather_measurements.csv/.part-00004-tid-5785058191842647654-99694b27-5637-4d82-97fd-79413e3b2b1a-5519-1-c000.csv.crc  \n  inflating: /tmp/dataset/aggregated_sampled_weather_measurements.csv/part-00003-tid-5785058191842647654-99694b27-5637-4d82-97fd-79413e3b2b1a-5518-1-c000.csv  \n  inflating: /tmp/dataset/aggregated_sampled_weather_measurements.csv/_committed_7616641238230246128  \n  inflating: /tmp/dataset/aggregated_sampled_weather_measurements.csv/_committed_vacuum6920010656788597249  \n  inflating: /tmp/dataset/aggregated_sampled_weather_measurements.csv/part-00005-tid-5785058191842647654-99694b27-5637-4d82-97fd-79413e3b2b1a-5520-1-c000.csv  \n  inflating: /tmp/dataset/aggregated_sampled_weather_measurements.csv/part-00002-tid-5785058191842647654-99694b27-5637-4d82-97fd-79413e3b2b1a-5517-1-c000.csv  \n  inflating: /tmp/dataset/aggregated_sampled_weather_measurements.csv/_started_5785058191842647654  \n  inflating: /tmp/dataset/aggregated_sampled_weather_measurements.csv/part-00001-tid-5785058191842647654-99694b27-5637-4d82-97fd-79413e3b2b1a-5516-1-c000.csv  \n  inflating: /tmp/dataset/aggregated_sampled_weather_measurements.csv/_committed_777980178201020908  \n  inflating: /tmp/dataset/aggregated_sampled_weather_measurements.csv/_committed_5785058191842647654  \n  inflating: /tmp/dataset/aggregated_sampled_weather_measurements.csv/._committed_5785058191842647654.crc  \n  inflating: /tmp/dataset/aggregated_sampled_weather_measurements.csv/.part-00001-tid-5785058191842647654-99694b27-5637-4d82-97fd-79413e3b2b1a-5516-1-c000.csv.crc  \n  inflating: /tmp/dataset/aggregated_sampled_weather_measurements.csv/.part-00003-tid-5785058191842647654-99694b27-5637-4d82-97fd-79413e3b2b1a-5518-1-c000.csv.crc  \n  inflating: /tmp/dataset/aggregated_sampled_weather_measurements.csv/part-00007-tid-5785058191842647654-99694b27-5637-4d82-97fd-79413e3b2b1a-5522-1-c000.csv  \n  inflating: /tmp/dataset/aggregated_sampled_weather_measurements.csv/part-00006-tid-5785058191842647654-99694b27-5637-4d82-97fd-79413e3b2b1a-5521-1-c000.csv  \n  inflating: /tmp/dataset/aggregated_sampled_weather_measurements.csv/._started_5785058191842647654.crc  \n  inflating: /tmp/dataset/aggregated_sampled_weather_measurements.csv/._committed_777980178201020908.crc  \n  inflating: /tmp/dataset/aggregated_sampled_weather_measurements.csv/part-00000-tid-5785058191842647654-99694b27-5637-4d82-97fd-79413e3b2b1a-5515-1-c000.csv  \n  inflating: /tmp/dataset/aggregated_sampled_weather_measurements.csv/.part-00007-tid-5785058191842647654-99694b27-5637-4d82-97fd-79413e3b2b1a-5522-1-c000.csv.crc  \n  inflating: /tmp/dataset/aggregated_sampled_weather_measurements.csv/.part-00005-tid-5785058191842647654-99694b27-5637-4d82-97fd-79413e3b2b1a-5520-1-c000.csv.crc  \n  inflating: /tmp/dataset/aggregated_sampled_weather_measurements.csv/part-00004-tid-5785058191842647654-99694b27-5637-4d82-97fd-79413e3b2b1a-5519-1-c000.csv  \n  inflating: /tmp/dataset/aggregated_sampled_weather_measurements.csv/._committed_vacuum6920010656788597249.crc  \n  inflating: /tmp/dataset/city_attributes.csv  \n  inflating: /tmp/dataset/humidity.csv  \n  inflating: /tmp/dataset/pressure.csv  \n  inflating: /tmp/dataset/temperature.csv  \n  inflating: /tmp/dataset/weather_description.csv  \n  inflating: /tmp/dataset/wind_direction.csv  \n  inflating: /tmp/dataset/wind_speed.csv  \n"
     ]
    }
   ],
   "source": [
    "%sh\n",
    "wget --no-verbose https://github.com/andrea-gasparini/big-data-weather-forecasting/raw/master/dataset/historical-hourly-weather-dataset.zip -O /tmp/dataset.zip\n",
    "unzip -u /tmp/dataset.zip -d /tmp/dataset"
   ]
  },
  {
   "cell_type": "markdown",
   "metadata": {
    "application/vnd.databricks.v1+cell": {
     "cellMetadata": {
      "byteLimit": 2048000,
      "rowLimit": 10000
     },
     "inputWidgets": {},
     "nuid": "9745b289-f784-4079-9669-3615eb2608c0",
     "showTitle": false,
     "title": ""
    }
   },
   "source": [
    "### Move the dataset from Databricks local driver node's file system to DBFS"
   ]
  },
  {
   "cell_type": "code",
   "execution_count": 0,
   "metadata": {
    "application/vnd.databricks.v1+cell": {
     "cellMetadata": {
      "byteLimit": 2048000,
      "rowLimit": 10000
     },
     "inputWidgets": {},
     "nuid": "608fc13a-81a5-463f-8344-5c09cbab13c4",
     "showTitle": false,
     "title": ""
    }
   },
   "outputs": [],
   "source": [
    "for file in dbutils.fs.ls('file:/tmp/dataset'):\n",
    "    dbutils.fs.mv(file.path, f'{DATASET_PATH}{file.name}', recurse=True)"
   ]
  },
  {
   "cell_type": "code",
   "execution_count": 0,
   "metadata": {
    "application/vnd.databricks.v1+cell": {
     "cellMetadata": {
      "byteLimit": 2048000,
      "rowLimit": 10000
     },
     "inputWidgets": {},
     "nuid": "507f4611-9b43-485e-8649-96f893391158",
     "showTitle": false,
     "title": ""
    }
   },
   "outputs": [
    {
     "output_type": "display_data",
     "data": {
      "text/html": [
       "<style scoped>\n",
       "  .table-result-container {\n",
       "    max-height: 300px;\n",
       "    overflow: auto;\n",
       "  }\n",
       "  table, th, td {\n",
       "    border: 1px solid black;\n",
       "    border-collapse: collapse;\n",
       "  }\n",
       "  th, td {\n",
       "    padding: 5px;\n",
       "  }\n",
       "  th {\n",
       "    text-align: left;\n",
       "  }\n",
       "</style><div class='table-result-container'><table class='table-result'><thead style='background-color: white'><tr><th>path</th><th>name</th><th>size</th><th>modificationTime</th></tr></thead><tbody><tr><td>dbfs:/bdc-2020-21/datasets/historical-hourly-weather/aggregated_sampled_weather_measurements.csv/</td><td>aggregated_sampled_weather_measurements.csv/</td><td>0</td><td>0</td></tr><tr><td>dbfs:/bdc-2020-21/datasets/historical-hourly-weather/city_attributes.csv</td><td>city_attributes.csv</td><td>1614</td><td>1700237597000</td></tr><tr><td>dbfs:/bdc-2020-21/datasets/historical-hourly-weather/humidity.csv</td><td>humidity.csv</td><td>9075077</td><td>1700237594000</td></tr><tr><td>dbfs:/bdc-2020-21/datasets/historical-hourly-weather/pressure.csv</td><td>pressure.csv</td><td>12155911</td><td>1700237596000</td></tr><tr><td>dbfs:/bdc-2020-21/datasets/historical-hourly-weather/temperature.csv</td><td>temperature.csv</td><td>13971171</td><td>1700237595000</td></tr><tr><td>dbfs:/bdc-2020-21/datasets/historical-hourly-weather/weather_description.csv</td><td>weather_description.csv</td><td>21858089</td><td>1700237597000</td></tr><tr><td>dbfs:/bdc-2020-21/datasets/historical-hourly-weather/wind_direction.csv</td><td>wind_direction.csv</td><td>10171003</td><td>1700237590000</td></tr><tr><td>dbfs:/bdc-2020-21/datasets/historical-hourly-weather/wind_speed.csv</td><td>wind_speed.csv</td><td>7457531</td><td>1700237595000</td></tr></tbody></table></div>"
      ]
     },
     "metadata": {
      "application/vnd.databricks.v1+output": {
       "addedWidgets": {},
       "aggData": [],
       "aggError": "",
       "aggOverflow": false,
       "aggSchema": [],
       "aggSeriesLimitReached": false,
       "aggType": "",
       "arguments": {},
       "columnCustomDisplayInfos": {},
       "data": [
        [
         "dbfs:/bdc-2020-21/datasets/historical-hourly-weather/aggregated_sampled_weather_measurements.csv/",
         "aggregated_sampled_weather_measurements.csv/",
         0,
         0
        ],
        [
         "dbfs:/bdc-2020-21/datasets/historical-hourly-weather/city_attributes.csv",
         "city_attributes.csv",
         1614,
         1700237597000
        ],
        [
         "dbfs:/bdc-2020-21/datasets/historical-hourly-weather/humidity.csv",
         "humidity.csv",
         9075077,
         1700237594000
        ],
        [
         "dbfs:/bdc-2020-21/datasets/historical-hourly-weather/pressure.csv",
         "pressure.csv",
         12155911,
         1700237596000
        ],
        [
         "dbfs:/bdc-2020-21/datasets/historical-hourly-weather/temperature.csv",
         "temperature.csv",
         13971171,
         1700237595000
        ],
        [
         "dbfs:/bdc-2020-21/datasets/historical-hourly-weather/weather_description.csv",
         "weather_description.csv",
         21858089,
         1700237597000
        ],
        [
         "dbfs:/bdc-2020-21/datasets/historical-hourly-weather/wind_direction.csv",
         "wind_direction.csv",
         10171003,
         1700237590000
        ],
        [
         "dbfs:/bdc-2020-21/datasets/historical-hourly-weather/wind_speed.csv",
         "wind_speed.csv",
         7457531,
         1700237595000
        ]
       ],
       "datasetInfos": [],
       "dbfsResultPath": null,
       "isJsonSchema": true,
       "metadata": {
        "isDbfsCommandResult": false
       },
       "overflow": false,
       "plotOptions": {
        "customPlotOptions": {},
        "displayType": "table",
        "pivotAggregation": null,
        "pivotColumns": null,
        "xColumns": null,
        "yColumns": null
       },
       "removedWidgets": [],
       "schema": [
        {
         "metadata": "{}",
         "name": "path",
         "type": "\"string\""
        },
        {
         "metadata": "{}",
         "name": "name",
         "type": "\"string\""
        },
        {
         "metadata": "{}",
         "name": "size",
         "type": "\"long\""
        },
        {
         "metadata": "{}",
         "name": "modificationTime",
         "type": "\"long\""
        }
       ],
       "type": "table"
      }
     },
     "output_type": "display_data"
    }
   ],
   "source": [
    "%fs ls /bdc-2020-21/datasets/historical-hourly-weather"
   ]
  },
  {
   "cell_type": "markdown",
   "metadata": {
    "application/vnd.databricks.v1+cell": {
     "cellMetadata": {
      "byteLimit": 2048000,
      "rowLimit": 10000
     },
     "inputWidgets": {},
     "nuid": "ee9b0401-b14d-4e42-8da2-618f35fc4a58",
     "showTitle": false,
     "title": ""
    }
   },
   "source": [
    "### Load dataset into Koalas `DataFrame` objects"
   ]
  },
  {
   "cell_type": "code",
   "execution_count": 0,
   "metadata": {
    "application/vnd.databricks.v1+cell": {
     "cellMetadata": {
      "byteLimit": 2048000,
      "rowLimit": 10000
     },
     "inputWidgets": {},
     "nuid": "dc36e1f2-902c-4fd8-9f98-aeab318d3fef",
     "showTitle": false,
     "title": ""
    }
   },
   "outputs": [],
   "source": [
    "weather_conditions_df = ks.read_csv(f'{DATASET_PATH}weather_description.csv')\n",
    "humidity_df = ks.read_csv(f'{DATASET_PATH}humidity.csv')\n",
    "pressure_df = ks.read_csv(f'{DATASET_PATH}pressure.csv')\n",
    "temperature_df = ks.read_csv(f'{DATASET_PATH}temperature.csv')\n",
    "city_attributes_df = ks.read_csv(f'{DATASET_PATH}city_attributes.csv')\n",
    "wind_direction_df = ks.read_csv(f'{DATASET_PATH}wind_direction.csv')\n",
    "wind_speed_df = ks.read_csv(f'{DATASET_PATH}wind_speed.csv')"
   ]
  },
  {
   "cell_type": "markdown",
   "metadata": {
    "application/vnd.databricks.v1+cell": {
     "cellMetadata": {
      "byteLimit": 2048000,
      "rowLimit": 10000
     },
     "inputWidgets": {},
     "nuid": "11c7548d-25fc-4774-902b-6f0bdfd88028",
     "showTitle": false,
     "title": ""
    }
   },
   "source": [
    "### Dataset shape and schema\n",
    "\n",
    "The raw dataset downloaded from kaggle is composed of 7 different `.csv` files:\n",
    "- `city_attributes.csv` contains geographical information about the different cities for which there are weather measurements;\n",
    "- `weather_description.csv` contains the textual description of the weather conditions, where each column refers to a different city and each row refers to a specific `datetime` in which the weather condition occurred;\n",
    "- Each one of the other 5 csv follows the same structure as `weather_description.csv` and contains the measurements of the following metrics: `humidity`,  `pressure`, `temperature`, `wind_direction`, `wind_speed`\n",
    "\n",
    "Except for `city_attributes.csv`, all the other files contains about **45.000** records of hourly weather measurements, that multiplied by the **36** cities results in approximately **1.500.000** records."
   ]
  },
  {
   "cell_type": "code",
   "execution_count": 0,
   "metadata": {
    "application/vnd.databricks.v1+cell": {
     "cellMetadata": {
      "byteLimit": 2048000,
      "rowLimit": 10000
     },
     "inputWidgets": {},
     "nuid": "8b817a34-3484-46c2-9d84-5be1f3f54a56",
     "showTitle": false,
     "title": ""
    }
   },
   "outputs": [],
   "source": [
    "def print_dataframe_shape(dataframe: Union[DataFrame, ks.DataFrame]) -> None:\n",
    "    \n",
    "    if isinstance(dataframe, ks.DataFrame): dataframe = dataframe.to_spark()\n",
    "\n",
    "    rows_count = dataframe.count()\n",
    "    columns_count = len(dataframe.columns)\n",
    "\n",
    "    print(f'The shape of the dataset is {rows_count} rows by {columns_count} columns', end='\\n\\n')"
   ]
  },
  {
   "cell_type": "markdown",
   "metadata": {
    "application/vnd.databricks.v1+cell": {
     "cellMetadata": {
      "byteLimit": 2048000,
      "rowLimit": 10000
     },
     "inputWidgets": {},
     "nuid": "29be7a1b-2bb2-4024-8e45-dd0944a040cc",
     "showTitle": false,
     "title": ""
    }
   },
   "source": [
    "#### `city_attributes.csv`"
   ]
  },
  {
   "cell_type": "code",
   "execution_count": 0,
   "metadata": {
    "application/vnd.databricks.v1+cell": {
     "cellMetadata": {
      "byteLimit": 2048000,
      "rowLimit": 10000
     },
     "inputWidgets": {},
     "nuid": "0b716ad1-98da-4b05-92ec-0add9ac0984f",
     "showTitle": false,
     "title": ""
    }
   },
   "outputs": [
    {
     "output_type": "stream",
     "name": "stdout",
     "output_type": "stream",
     "text": [
      "The shape of the dataset is 36 rows by 4 columns\n\n"
     ]
    }
   ],
   "source": [
    "print_dataframe_shape(city_attributes_df)"
   ]
  },
  {
   "cell_type": "code",
   "execution_count": 0,
   "metadata": {
    "application/vnd.databricks.v1+cell": {
     "cellMetadata": {
      "byteLimit": 2048000,
      "rowLimit": 10000
     },
     "inputWidgets": {},
     "nuid": "e8cfaf70-2bb6-487c-afe1-c21e739de2c5",
     "showTitle": false,
     "title": ""
    }
   },
   "outputs": [
    {
     "output_type": "stream",
     "name": "stdout",
     "output_type": "stream",
     "text": [
      "root\n |-- City: string (nullable = true)\n |-- Country: string (nullable = true)\n |-- Latitude: double (nullable = true)\n |-- Longitude: double (nullable = true)\n\n"
     ]
    }
   ],
   "source": [
    "city_attributes_df.spark.print_schema()"
   ]
  },
  {
   "cell_type": "code",
   "execution_count": 0,
   "metadata": {
    "application/vnd.databricks.v1+cell": {
     "cellMetadata": {
      "byteLimit": 2048000,
      "rowLimit": 10000
     },
     "inputWidgets": {},
     "nuid": "c1deea11-bef7-4cb7-86d5-21d4e4b683d2",
     "showTitle": false,
     "title": ""
    }
   },
   "outputs": [
    {
     "output_type": "display_data",
     "data": {
      "text/html": [
       "<div>\n",
       "<style scoped>\n",
       "    .dataframe tbody tr th:only-of-type {\n",
       "        vertical-align: middle;\n",
       "    }\n",
       "\n",
       "    .dataframe tbody tr th {\n",
       "        vertical-align: top;\n",
       "    }\n",
       "\n",
       "    .dataframe thead th {\n",
       "        text-align: right;\n",
       "    }\n",
       "</style>\n",
       "<table border=\"1\" class=\"dataframe\">\n",
       "  <thead>\n",
       "    <tr style=\"text-align: right;\">\n",
       "      <th></th>\n",
       "      <th>City</th>\n",
       "      <th>Country</th>\n",
       "      <th>Latitude</th>\n",
       "      <th>Longitude</th>\n",
       "    </tr>\n",
       "  </thead>\n",
       "  <tbody>\n",
       "    <tr>\n",
       "      <th>0</th>\n",
       "      <td>Vancouver</td>\n",
       "      <td>Canada</td>\n",
       "      <td>49.249660</td>\n",
       "      <td>-123.119339</td>\n",
       "    </tr>\n",
       "    <tr>\n",
       "      <th>1</th>\n",
       "      <td>Portland</td>\n",
       "      <td>United States</td>\n",
       "      <td>45.523449</td>\n",
       "      <td>-122.676208</td>\n",
       "    </tr>\n",
       "    <tr>\n",
       "      <th>2</th>\n",
       "      <td>San Francisco</td>\n",
       "      <td>United States</td>\n",
       "      <td>37.774929</td>\n",
       "      <td>-122.419418</td>\n",
       "    </tr>\n",
       "    <tr>\n",
       "      <th>3</th>\n",
       "      <td>Seattle</td>\n",
       "      <td>United States</td>\n",
       "      <td>47.606209</td>\n",
       "      <td>-122.332069</td>\n",
       "    </tr>\n",
       "    <tr>\n",
       "      <th>4</th>\n",
       "      <td>Los Angeles</td>\n",
       "      <td>United States</td>\n",
       "      <td>34.052231</td>\n",
       "      <td>-118.243683</td>\n",
       "    </tr>\n",
       "  </tbody>\n",
       "</table>\n",
       "</div>"
      ]
     },
     "metadata": {
      "application/vnd.databricks.v1+output": {
       "addedWidgets": {},
       "arguments": {},
       "data": "<div>\n<style scoped>\n    .dataframe tbody tr th:only-of-type {\n        vertical-align: middle;\n    }\n\n    .dataframe tbody tr th {\n        vertical-align: top;\n    }\n\n    .dataframe thead th {\n        text-align: right;\n    }\n</style>\n<table border=\"1\" class=\"dataframe\">\n  <thead>\n    <tr style=\"text-align: right;\">\n      <th></th>\n      <th>City</th>\n      <th>Country</th>\n      <th>Latitude</th>\n      <th>Longitude</th>\n    </tr>\n  </thead>\n  <tbody>\n    <tr>\n      <th>0</th>\n      <td>Vancouver</td>\n      <td>Canada</td>\n      <td>49.249660</td>\n      <td>-123.119339</td>\n    </tr>\n    <tr>\n      <th>1</th>\n      <td>Portland</td>\n      <td>United States</td>\n      <td>45.523449</td>\n      <td>-122.676208</td>\n    </tr>\n    <tr>\n      <th>2</th>\n      <td>San Francisco</td>\n      <td>United States</td>\n      <td>37.774929</td>\n      <td>-122.419418</td>\n    </tr>\n    <tr>\n      <th>3</th>\n      <td>Seattle</td>\n      <td>United States</td>\n      <td>47.606209</td>\n      <td>-122.332069</td>\n    </tr>\n    <tr>\n      <th>4</th>\n      <td>Los Angeles</td>\n      <td>United States</td>\n      <td>34.052231</td>\n      <td>-118.243683</td>\n    </tr>\n  </tbody>\n</table>\n</div>",
       "datasetInfos": [],
       "metadata": {},
       "removedWidgets": [],
       "textData": null,
       "type": "htmlSandbox"
      }
     },
     "output_type": "display_data"
    }
   ],
   "source": [
    "city_attributes_df.head(5)"
   ]
  },
  {
   "cell_type": "markdown",
   "metadata": {
    "application/vnd.databricks.v1+cell": {
     "cellMetadata": {
      "byteLimit": 2048000,
      "rowLimit": 10000
     },
     "inputWidgets": {},
     "nuid": "d0264b7c-d645-49a3-934c-788c6301a111",
     "showTitle": false,
     "title": ""
    }
   },
   "source": [
    "#### `weather_description.csv`"
   ]
  },
  {
   "cell_type": "code",
   "execution_count": 0,
   "metadata": {
    "application/vnd.databricks.v1+cell": {
     "cellMetadata": {
      "byteLimit": 2048000,
      "rowLimit": 10000
     },
     "inputWidgets": {},
     "nuid": "8fe8a6f8-17bd-42c3-905f-6cec1236c329",
     "showTitle": false,
     "title": ""
    }
   },
   "outputs": [
    {
     "output_type": "stream",
     "name": "stdout",
     "output_type": "stream",
     "text": [
      "The shape of the dataset is 45253 rows by 37 columns\n\n"
     ]
    }
   ],
   "source": [
    "print_dataframe_shape(weather_conditions_df)"
   ]
  },
  {
   "cell_type": "code",
   "execution_count": 0,
   "metadata": {
    "application/vnd.databricks.v1+cell": {
     "cellMetadata": {
      "byteLimit": 2048000,
      "rowLimit": 10000
     },
     "inputWidgets": {},
     "nuid": "15538ddb-e14b-4ee3-8dd6-299aa4a0f13c",
     "showTitle": false,
     "title": ""
    }
   },
   "outputs": [
    {
     "output_type": "stream",
     "name": "stdout",
     "output_type": "stream",
     "text": [
      "root\n |-- datetime: timestamp (nullable = true)\n |-- Vancouver: string (nullable = true)\n |-- Portland: string (nullable = true)\n |-- San Francisco: string (nullable = true)\n |-- Seattle: string (nullable = true)\n |-- Los Angeles: string (nullable = true)\n |-- San Diego: string (nullable = true)\n |-- Las Vegas: string (nullable = true)\n |-- Phoenix: string (nullable = true)\n |-- Albuquerque: string (nullable = true)\n |-- Denver: string (nullable = true)\n |-- San Antonio: string (nullable = true)\n |-- Dallas: string (nullable = true)\n |-- Houston: string (nullable = true)\n |-- Kansas City: string (nullable = true)\n |-- Minneapolis: string (nullable = true)\n |-- Saint Louis: string (nullable = true)\n |-- Chicago: string (nullable = true)\n |-- Nashville: string (nullable = true)\n |-- Indianapolis: string (nullable = true)\n |-- Atlanta: string (nullable = true)\n |-- Detroit: string (nullable = true)\n |-- Jacksonville: string (nullable = true)\n |-- Charlotte: string (nullable = true)\n |-- Miami: string (nullable = true)\n |-- Pittsburgh: string (nullable = true)\n |-- Toronto: string (nullable = true)\n |-- Philadelphia: string (nullable = true)\n |-- New York: string (nullable = true)\n |-- Montreal: string (nullable = true)\n |-- Boston: string (nullable = true)\n |-- Beersheba: string (nullable = true)\n |-- Tel Aviv District: string (nullable = true)\n |-- Eilat: string (nullable = true)\n |-- Haifa: string (nullable = true)\n |-- Nahariyya: string (nullable = true)\n |-- Jerusalem: string (nullable = true)\n\n"
     ]
    }
   ],
   "source": [
    "weather_conditions_df.spark.print_schema()"
   ]
  },
  {
   "cell_type": "code",
   "execution_count": 0,
   "metadata": {
    "application/vnd.databricks.v1+cell": {
     "cellMetadata": {
      "byteLimit": 2048000,
      "rowLimit": 10000
     },
     "inputWidgets": {},
     "nuid": "7e0d5360-45a9-4724-957a-14248a7b45be",
     "showTitle": false,
     "title": ""
    }
   },
   "outputs": [
    {
     "output_type": "display_data",
     "data": {
      "text/html": [
       "<div>\n",
       "<style scoped>\n",
       "    .dataframe tbody tr th:only-of-type {\n",
       "        vertical-align: middle;\n",
       "    }\n",
       "\n",
       "    .dataframe tbody tr th {\n",
       "        vertical-align: top;\n",
       "    }\n",
       "\n",
       "    .dataframe thead th {\n",
       "        text-align: right;\n",
       "    }\n",
       "</style>\n",
       "<table border=\"1\" class=\"dataframe\">\n",
       "  <thead>\n",
       "    <tr style=\"text-align: right;\">\n",
       "      <th></th>\n",
       "      <th>datetime</th>\n",
       "      <th>Vancouver</th>\n",
       "      <th>Portland</th>\n",
       "      <th>San Francisco</th>\n",
       "      <th>Seattle</th>\n",
       "    </tr>\n",
       "  </thead>\n",
       "  <tbody>\n",
       "    <tr>\n",
       "      <th>0</th>\n",
       "      <td>2012-10-01 12:00:00</td>\n",
       "      <td>None</td>\n",
       "      <td>None</td>\n",
       "      <td>None</td>\n",
       "      <td>None</td>\n",
       "    </tr>\n",
       "    <tr>\n",
       "      <th>1</th>\n",
       "      <td>2012-10-01 13:00:00</td>\n",
       "      <td>mist</td>\n",
       "      <td>scattered clouds</td>\n",
       "      <td>light rain</td>\n",
       "      <td>sky is clear</td>\n",
       "    </tr>\n",
       "    <tr>\n",
       "      <th>2</th>\n",
       "      <td>2012-10-01 14:00:00</td>\n",
       "      <td>broken clouds</td>\n",
       "      <td>scattered clouds</td>\n",
       "      <td>sky is clear</td>\n",
       "      <td>sky is clear</td>\n",
       "    </tr>\n",
       "    <tr>\n",
       "      <th>3</th>\n",
       "      <td>2012-10-01 15:00:00</td>\n",
       "      <td>broken clouds</td>\n",
       "      <td>scattered clouds</td>\n",
       "      <td>sky is clear</td>\n",
       "      <td>sky is clear</td>\n",
       "    </tr>\n",
       "    <tr>\n",
       "      <th>4</th>\n",
       "      <td>2012-10-01 16:00:00</td>\n",
       "      <td>broken clouds</td>\n",
       "      <td>scattered clouds</td>\n",
       "      <td>sky is clear</td>\n",
       "      <td>sky is clear</td>\n",
       "    </tr>\n",
       "  </tbody>\n",
       "</table>\n",
       "</div>"
      ]
     },
     "metadata": {
      "application/vnd.databricks.v1+output": {
       "addedWidgets": {},
       "arguments": {},
       "data": "<div>\n<style scoped>\n    .dataframe tbody tr th:only-of-type {\n        vertical-align: middle;\n    }\n\n    .dataframe tbody tr th {\n        vertical-align: top;\n    }\n\n    .dataframe thead th {\n        text-align: right;\n    }\n</style>\n<table border=\"1\" class=\"dataframe\">\n  <thead>\n    <tr style=\"text-align: right;\">\n      <th></th>\n      <th>datetime</th>\n      <th>Vancouver</th>\n      <th>Portland</th>\n      <th>San Francisco</th>\n      <th>Seattle</th>\n    </tr>\n  </thead>\n  <tbody>\n    <tr>\n      <th>0</th>\n      <td>2012-10-01 12:00:00</td>\n      <td>None</td>\n      <td>None</td>\n      <td>None</td>\n      <td>None</td>\n    </tr>\n    <tr>\n      <th>1</th>\n      <td>2012-10-01 13:00:00</td>\n      <td>mist</td>\n      <td>scattered clouds</td>\n      <td>light rain</td>\n      <td>sky is clear</td>\n    </tr>\n    <tr>\n      <th>2</th>\n      <td>2012-10-01 14:00:00</td>\n      <td>broken clouds</td>\n      <td>scattered clouds</td>\n      <td>sky is clear</td>\n      <td>sky is clear</td>\n    </tr>\n    <tr>\n      <th>3</th>\n      <td>2012-10-01 15:00:00</td>\n      <td>broken clouds</td>\n      <td>scattered clouds</td>\n      <td>sky is clear</td>\n      <td>sky is clear</td>\n    </tr>\n    <tr>\n      <th>4</th>\n      <td>2012-10-01 16:00:00</td>\n      <td>broken clouds</td>\n      <td>scattered clouds</td>\n      <td>sky is clear</td>\n      <td>sky is clear</td>\n    </tr>\n  </tbody>\n</table>\n</div>",
       "datasetInfos": [],
       "metadata": {},
       "removedWidgets": [],
       "textData": null,
       "type": "htmlSandbox"
      }
     },
     "output_type": "display_data"
    }
   ],
   "source": [
    "weather_conditions_df[weather_conditions_df.columns[:5]].head(5)"
   ]
  },
  {
   "cell_type": "markdown",
   "metadata": {
    "application/vnd.databricks.v1+cell": {
     "cellMetadata": {
      "byteLimit": 2048000,
      "rowLimit": 10000
     },
     "inputWidgets": {},
     "nuid": "6ae48a14-5563-489e-a2ae-1dcfa7b7492a",
     "showTitle": false,
     "title": ""
    }
   },
   "source": [
    "## Dataset preprocessing"
   ]
  },
  {
   "cell_type": "markdown",
   "metadata": {
    "application/vnd.databricks.v1+cell": {
     "cellMetadata": {
      "byteLimit": 2048000,
      "rowLimit": 10000
     },
     "inputWidgets": {},
     "nuid": "40f66c1e-0d9b-4a29-9f6e-8663b6829c1a",
     "showTitle": false,
     "title": ""
    }
   },
   "source": [
    "### Columns constants\n",
    "\n",
    "Here we are defining some constants regarding the dataset columns which we are going to use throughout this notebook."
   ]
  },
  {
   "cell_type": "code",
   "execution_count": 0,
   "metadata": {
    "application/vnd.databricks.v1+cell": {
     "cellMetadata": {
      "byteLimit": 2048000,
      "rowLimit": 10000
     },
     "inputWidgets": {},
     "nuid": "540ff1c9-7dd8-49de-9794-ad80cd7acd00",
     "showTitle": false,
     "title": ""
    }
   },
   "outputs": [],
   "source": [
    "DATETIME_COL = 'datetime'\n",
    "HUMIDITY_COL = 'humidity'\n",
    "PRESSURE_COL = 'pressure'\n",
    "TEMPERATURE_COL = 'temperature'\n",
    "WIND_DIRECTION_COL = 'wind_direction'\n",
    "WIND_SPEED_COL = 'wind_speed'\n",
    "LATITUDE_COL = 'latitude'\n",
    "LONGITUDE_COL = 'longitude'\n",
    "CITY_COL = 'city'\n",
    "COUNTRY_COL = 'country'\n",
    "WEATHER_CONDITION_COL = 'weather_condition'"
   ]
  },
  {
   "cell_type": "markdown",
   "metadata": {
    "application/vnd.databricks.v1+cell": {
     "cellMetadata": {
      "byteLimit": 2048000,
      "rowLimit": 10000
     },
     "inputWidgets": {},
     "nuid": "1149d147-bf28-4b0a-bd8a-fa967e2be8c1",
     "showTitle": false,
     "title": ""
    }
   },
   "source": [
    "### Create a single `DataFrame` that includes all data from the others\n",
    "\n",
    "As we have seen, the dataset is not provided in the best possible format for Machine Learning purposes, in fact the best solution would be to have a single `DataFrame` object which includes all the information about the hourly measurements, with one column for each metric, one column for the weather condition and some columns for the information about where the measurement has been made (city, geographical position, etc)."
   ]
  },
  {
   "cell_type": "code",
   "execution_count": 0,
   "metadata": {
    "application/vnd.databricks.v1+cell": {
     "cellMetadata": {
      "byteLimit": 2048000,
      "rowLimit": 10000
     },
     "inputWidgets": {},
     "nuid": "38ad8dc1-c02a-4966-8c67-b5efef5cfd84",
     "showTitle": false,
     "title": ""
    }
   },
   "outputs": [],
   "source": [
    "def filter_dataframe_by_city_column(dataframe: ks.DataFrame,\n",
    "                                    city_name: str,\n",
    "                                    new_column_name: str) -> DataFrame:\n",
    "    '''\n",
    "    Args:\n",
    "        - dataframe: a `DataFrame` with a datetime column and n cities columns,\n",
    "                     where the records are the related hourly measurements\n",
    "        - city_name: city name between the ones in the dataframe\n",
    "        - new_column_name: name to replace the city name\n",
    "        \n",
    "    Returns: \n",
    "        a new `DataFrame` with:\n",
    "            - the datetime column\n",
    "            - a single column of measurements related to the `city_name`\n",
    "              and renamed as `new_column_name`\n",
    "    '''\n",
    "    return dataframe.to_spark() \\\n",
    "        .withColumn(new_column_name, col(city_name)) \\\n",
    "        .select([DATETIME_COL, new_column_name])"
   ]
  },
  {
   "cell_type": "code",
   "execution_count": 0,
   "metadata": {
    "application/vnd.databricks.v1+cell": {
     "cellMetadata": {
      "byteLimit": 2048000,
      "rowLimit": 10000
     },
     "inputWidgets": {},
     "nuid": "9af2440f-d908-4116-bbd0-4552c4dfbb96",
     "showTitle": false,
     "title": ""
    }
   },
   "outputs": [],
   "source": [
    "def join_dataframes(dataframes: List[DataFrame], column_name: str) -> DataFrame:\n",
    "    '''\n",
    "    Args:\n",
    "        - dataframse: a list of `DataFrame` to be joined\n",
    "        - column_name: the column over which the records should be joined\n",
    "        \n",
    "    Returns:\n",
    "        a new dataframes resulting from the join of all the dataframes\n",
    "        over the `column_name` column\n",
    "    '''\n",
    "    joined_df = dataframes[0]\n",
    "\n",
    "    for dataframe in dataframes[1:]:\n",
    "        joined_df = joined_df.join(dataframe, [column_name])\n",
    "\n",
    "    return joined_df"
   ]
  },
  {
   "cell_type": "code",
   "execution_count": 0,
   "metadata": {
    "application/vnd.databricks.v1+cell": {
     "cellMetadata": {
      "byteLimit": 2048000,
      "rowLimit": 10000
     },
     "inputWidgets": {},
     "nuid": "a584dac3-4bb7-499e-a498-210448dc05a4",
     "showTitle": false,
     "title": ""
    }
   },
   "outputs": [],
   "source": [
    "weather_measurements_df = None\n",
    "\n",
    "# Iterate over all the records in the cities `DataFrame`\n",
    "for index, row in city_attributes_df.iterrows():    \n",
    "\n",
    "    city = row.City\n",
    "    country = row.Country\n",
    "    latitude = row.Latitude\n",
    "    longitude = row.Longitude\n",
    "\n",
    "    # Compute a list of `DataFrame`, one for each type of measurement in the city\n",
    "    dataframes = [\n",
    "        filter_dataframe_by_city_column(humidity_df, city, HUMIDITY_COL),\n",
    "        filter_dataframe_by_city_column(pressure_df, city, PRESSURE_COL),\n",
    "        filter_dataframe_by_city_column(temperature_df, city, TEMPERATURE_COL),\n",
    "        filter_dataframe_by_city_column(wind_direction_df, city, WIND_DIRECTION_COL),\n",
    "        filter_dataframe_by_city_column(wind_speed_df, city, WIND_SPEED_COL),\n",
    "        filter_dataframe_by_city_column(weather_conditions_df, city, WEATHER_CONDITION_COL)\n",
    "    ]\n",
    "\n",
    "    # Compute a `DataFrame` that includes all the data about the measurements in the city\n",
    "    joined_df = join_dataframes(dataframes, DATETIME_COL) \\\n",
    "        .withColumn(CITY_COL, lit(city)) \\\n",
    "        .withColumn(COUNTRY_COL, lit(country)) \\\n",
    "        .withColumn(LATITUDE_COL, lit(latitude)) \\\n",
    "        .withColumn(LONGITUDE_COL, lit(longitude))\n",
    "\n",
    "    # Union the `DataFrame` with the ones computed in the previous iterations\n",
    "    weather_measurements_df = weather_measurements_df.union(joined_df) if weather_measurements_df is not None else joined_df"
   ]
  },
  {
   "cell_type": "markdown",
   "metadata": {
    "application/vnd.databricks.v1+cell": {
     "cellMetadata": {
      "byteLimit": 2048000,
      "rowLimit": 10000
     },
     "inputWidgets": {},
     "nuid": "c80637e0-f33a-4304-9b47-28dcf7dae524",
     "showTitle": false,
     "title": ""
    }
   },
   "source": [
    "#### Check the shape of the newly created dataset"
   ]
  },
  {
   "cell_type": "code",
   "execution_count": 0,
   "metadata": {
    "application/vnd.databricks.v1+cell": {
     "cellMetadata": {
      "byteLimit": 2048000,
      "rowLimit": 10000
     },
     "inputWidgets": {},
     "nuid": "5f82076e-d456-410f-9838-a21dec1f5baf",
     "showTitle": false,
     "title": ""
    }
   },
   "outputs": [
    {
     "output_type": "stream",
     "name": "stdout",
     "output_type": "stream",
     "text": [
      "The shape of the dataset is 1629108 rows by 11 columns\n\n"
     ]
    }
   ],
   "source": [
    "print_dataframe_shape(weather_measurements_df)"
   ]
  },
  {
   "cell_type": "markdown",
   "metadata": {
    "application/vnd.databricks.v1+cell": {
     "cellMetadata": {
      "byteLimit": 2048000,
      "rowLimit": 10000
     },
     "inputWidgets": {},
     "nuid": "226ba777-97a1-486b-8847-b7e8c6c41370",
     "showTitle": false,
     "title": ""
    }
   },
   "source": [
    "#### Print out the new schema"
   ]
  },
  {
   "cell_type": "code",
   "execution_count": 0,
   "metadata": {
    "application/vnd.databricks.v1+cell": {
     "cellMetadata": {
      "byteLimit": 2048000,
      "rowLimit": 10000
     },
     "inputWidgets": {},
     "nuid": "3d97a4c4-4026-4f9b-885c-00ac7a8ce5bb",
     "showTitle": false,
     "title": ""
    }
   },
   "outputs": [
    {
     "output_type": "stream",
     "name": "stdout",
     "output_type": "stream",
     "text": [
      "root\n |-- datetime: timestamp (nullable = true)\n |-- humidity: double (nullable = true)\n |-- pressure: double (nullable = true)\n |-- temperature: double (nullable = true)\n |-- wind_direction: double (nullable = true)\n |-- wind_speed: double (nullable = true)\n |-- weather_condition: string (nullable = true)\n |-- city: string (nullable = false)\n |-- country: string (nullable = false)\n |-- latitude: double (nullable = false)\n |-- longitude: double (nullable = false)\n\n"
     ]
    }
   ],
   "source": [
    "weather_measurements_df.printSchema()"
   ]
  },
  {
   "cell_type": "markdown",
   "metadata": {
    "application/vnd.databricks.v1+cell": {
     "cellMetadata": {
      "byteLimit": 2048000,
      "rowLimit": 10000
     },
     "inputWidgets": {},
     "nuid": "cdfe92c7-1afb-4542-be85-5459c453c811",
     "showTitle": false,
     "title": ""
    }
   },
   "source": [
    "#### Display the first 5 rows"
   ]
  },
  {
   "cell_type": "code",
   "execution_count": 0,
   "metadata": {
    "application/vnd.databricks.v1+cell": {
     "cellMetadata": {
      "byteLimit": 2048000,
      "rowLimit": 10000
     },
     "inputWidgets": {},
     "nuid": "4a02381e-4165-4767-ba91-41a68ea8ecc9",
     "showTitle": false,
     "title": ""
    }
   },
   "outputs": [
    {
     "output_type": "stream",
     "name": "stdout",
     "output_type": "stream",
     "text": [
      "+-------------------+--------+--------+-------------+--------------+----------+-----------------+---------+-------+--------+-----------+\n|           datetime|humidity|pressure|  temperature|wind_direction|wind_speed|weather_condition|     city|country|latitude|  longitude|\n+-------------------+--------+--------+-------------+--------------+----------+-----------------+---------+-------+--------+-----------+\n|2012-10-01 12:00:00|    null|    null|         null|          null|      null|             null|Vancouver| Canada|49.24966|-123.119339|\n|2012-10-01 13:00:00|    76.0|    null|       284.63|           0.0|       0.0|             mist|Vancouver| Canada|49.24966|-123.119339|\n|2012-10-01 14:00:00|    76.0|    null| 284.62904131|           6.0|       0.0|    broken clouds|Vancouver| Canada|49.24966|-123.119339|\n|2012-10-01 15:00:00|    76.0|    null|284.626997923|          20.0|       0.0|    broken clouds|Vancouver| Canada|49.24966|-123.119339|\n|2012-10-01 16:00:00|    77.0|    null|284.624954535|          34.0|       0.0|    broken clouds|Vancouver| Canada|49.24966|-123.119339|\n+-------------------+--------+--------+-------------+--------------+----------+-----------------+---------+-------+--------+-----------+\nonly showing top 5 rows\n\n"
     ]
    }
   ],
   "source": [
    "if SLOW_OPERATIONS: weather_measurements_df.show(5)"
   ]
  },
  {
   "cell_type": "markdown",
   "metadata": {
    "application/vnd.databricks.v1+cell": {
     "cellMetadata": {
      "byteLimit": 2048000,
      "rowLimit": 10000
     },
     "inputWidgets": {},
     "nuid": "d3154941-cedf-46e9-944e-6d96086c6f1d",
     "showTitle": false,
     "title": ""
    }
   },
   "source": [
    "#### Summary of descriptive statistics"
   ]
  },
  {
   "cell_type": "code",
   "execution_count": 0,
   "metadata": {
    "application/vnd.databricks.v1+cell": {
     "cellMetadata": {
      "byteLimit": 2048000,
      "rowLimit": 10000
     },
     "inputWidgets": {},
     "nuid": "72ae026e-c396-4f56-bdb1-0f1ea21cdd6b",
     "showTitle": false,
     "title": ""
    }
   },
   "outputs": [],
   "source": [
    "if SLOW_OPERATIONS: weather_measurements_df.describe().to_koalas().transpose()"
   ]
  },
  {
   "cell_type": "markdown",
   "metadata": {
    "application/vnd.databricks.v1+cell": {
     "cellMetadata": {
      "byteLimit": 2048000,
      "rowLimit": 10000
     },
     "inputWidgets": {},
     "nuid": "5c6abe27-e36c-4b17-b2f9-0fdd0660e8f3",
     "showTitle": false,
     "title": ""
    }
   },
   "source": [
    "### Clean the dataset from measurements with missing metrics\n",
    "\n",
    "As we have seen, the measurements in the dataset can have missing values for some of the metrics. In order to solve this problem there are two options:\n",
    "- drop all the rows that contain null values\n",
    "- replace null values with representative ones (e.g. their mean)\n",
    "\n",
    "Since we have a huge amount of data we can safely drop the null rows and still have enough data to effectively train a Machine Learning model, moreover, keeping only real measurements in the dataset will certainly avoid any eventual \"wrong influence\" in the predictions caused by the artificial ones."
   ]
  },
  {
   "cell_type": "code",
   "execution_count": 0,
   "metadata": {
    "application/vnd.databricks.v1+cell": {
     "cellMetadata": {
      "byteLimit": 2048000,
      "rowLimit": 10000
     },
     "inputWidgets": {},
     "nuid": "b55819d8-4ea3-4fc5-a89b-51fae77c44e6",
     "showTitle": false,
     "title": ""
    }
   },
   "outputs": [
    {
     "output_type": "stream",
     "name": "stdout",
     "output_type": "stream",
     "text": [
      "Missing values of column `datetime` count: 0\nMissing values of column `humidity` count: 28651\nMissing values of column `pressure` count: 16680\nMissing values of column `temperature` count: 8030\nMissing values of column `wind_direction` count: 7975\nMissing values of column `wind_speed` count: 7993\nMissing values of column `weather_condition` count: 8083\nMissing values of column `city` count: 0\nMissing values of column `country` count: 0\nMissing values of column `latitude` count: 0\nMissing values of column `longitude` count: 0\n"
     ]
    }
   ],
   "source": [
    "if SLOW_OPERATIONS:\n",
    "    for c in weather_measurements_df.columns:\n",
    "        print(f'Missing values of column `{c}` count: {weather_measurements_df.where(col(c).isNull()).count()}')"
   ]
  },
  {
   "cell_type": "code",
   "execution_count": 0,
   "metadata": {
    "application/vnd.databricks.v1+cell": {
     "cellMetadata": {
      "byteLimit": 2048000,
      "rowLimit": 10000
     },
     "inputWidgets": {},
     "nuid": "a71b735e-87de-42eb-880c-c14e2e19be7f",
     "showTitle": false,
     "title": ""
    }
   },
   "outputs": [],
   "source": [
    "not_null_weather_measurements_df = weather_measurements_df.dropna()"
   ]
  },
  {
   "cell_type": "markdown",
   "metadata": {
    "application/vnd.databricks.v1+cell": {
     "cellMetadata": {
      "byteLimit": 2048000,
      "rowLimit": 10000
     },
     "inputWidgets": {},
     "nuid": "1947cf5c-f384-4107-a452-7fd1802e7bf1",
     "showTitle": false,
     "title": ""
    }
   },
   "source": [
    "### Aggregation of weather condition classes\n",
    "\n",
    "The target classes for our weather forecasting classification task are too sparse in the original dataset.\n",
    "In fact we have **54** different weather conditions, where some occur only very few times and a lot of them are really similar between each other.\n",
    "\n",
    "For example all the following conditions essentially tell us that **there is a thunderstorm** and so they could be classified as the same metheorological condition:\n",
    "- _thunderstorm with light drizzle_\n",
    "- _thunderstorm with rain_\n",
    "- _thunderstorm with light rain_\n",
    "\n",
    "In order to obtain a better set of target classes it is necessary to preprocess the dataset and aggregate some of them."
   ]
  },
  {
   "cell_type": "code",
   "execution_count": 0,
   "metadata": {
    "application/vnd.databricks.v1+cell": {
     "cellMetadata": {
      "byteLimit": 2048000,
      "rowLimit": 10000
     },
     "inputWidgets": {},
     "nuid": "ee598380-ccd2-4449-95e7-149930a58700",
     "showTitle": false,
     "title": ""
    }
   },
   "outputs": [
    {
     "output_type": "stream",
     "name": "stdout",
     "output_type": "stream",
     "text": [
      "+----------------------------+------+\n|weather_condition           |count |\n+----------------------------+------+\n|fog                         |16185 |\n|very heavy rain             |1001  |\n|proximity shower rain       |2339  |\n|few clouds                  |133685|\n|heavy shower snow           |336   |\n|light rain                  |127364|\n|light intensity drizzle     |8048  |\n|light intensity shower rain |3633  |\n|broken clouds               |167102|\n|overcast clouds             |133778|\n|light snow                  |14368 |\n|scattered clouds            |143277|\n|thunderstorm with heavy rain|396   |\n|thunderstorm with light rain|1179  |\n|heavy intensity rain        |14075 |\n|moderate rain               |43172 |\n|light intensity drizzle rain|41    |\n|sky is clear                |641577|\n|snow                        |3156  |\n|light shower snow           |998   |\n+----------------------------+------+\nonly showing top 20 rows\n\n"
     ]
    }
   ],
   "source": [
    "if SLOW_OPERATIONS: not_null_weather_measurements_df.groupBy(WEATHER_CONDITION_COL).count().show(truncate=False)"
   ]
  },
  {
   "cell_type": "markdown",
   "metadata": {
    "application/vnd.databricks.v1+cell": {
     "cellMetadata": {
      "byteLimit": 2048000,
      "rowLimit": 10000
     },
     "inputWidgets": {},
     "nuid": "d654e93b-1fed-4446-a9b3-7b40596fb9a8",
     "showTitle": false,
     "title": ""
    }
   },
   "source": [
    "#### Aggregate the weather conditions in a dictionary\n",
    "\n",
    "We are going to have **6** aggregated classes from the original **54**:\n",
    "- thunderstorm\n",
    "- rainy\n",
    "- snowy\n",
    "- cloudy\n",
    "- foggy\n",
    "- sunny"
   ]
  },
  {
   "cell_type": "code",
   "execution_count": 0,
   "metadata": {
    "application/vnd.databricks.v1+cell": {
     "cellMetadata": {
      "byteLimit": 2048000,
      "rowLimit": 10000
     },
     "inputWidgets": {},
     "nuid": "ab5bf149-9df9-4431-9034-5204d0b0b7c5",
     "showTitle": false,
     "title": ""
    }
   },
   "outputs": [],
   "source": [
    "def get_weather_conditions_aggregation_dict(weather_conditions: Iterable[str]) -> Dict[str, str]:\n",
    "    '''\n",
    "    Args:\n",
    "        - weather_conditions: an iterable collection of string weather conditions to be aggregated\n",
    "\n",
    "    Returns:\n",
    "        a dictionary that goes from the original weather condition name to one among the following:\n",
    "            - thunderstorm\n",
    "            - rainy\n",
    "            - snowy\n",
    "            - cloudy\n",
    "            - foggy\n",
    "            - sunny\n",
    "    '''\n",
    "    \n",
    "    weather_conditions_dict = dict()\n",
    "  \n",
    "    for weather_condition in weather_conditions:\n",
    "  \n",
    "        weather_condition_lowered = weather_condition.lower()\n",
    "\n",
    "        if any(key in weather_condition_lowered for key in ['squall', 'thunderstorm']):\n",
    "            weather_conditions_dict[weather_condition] = 'thunderstorm'\n",
    "        elif any(key in weather_condition_lowered for key in ['drizzle', 'rain']):\n",
    "            weather_conditions_dict[weather_condition] = 'rainy'\n",
    "        elif any(key in weather_condition_lowered for key in ['sleet', 'snow']):\n",
    "            weather_conditions_dict[weather_condition] = 'snowy'\n",
    "        elif 'cloud' in weather_condition_lowered:\n",
    "            weather_conditions_dict[weather_condition] = 'cloudy'\n",
    "        elif any(key in weather_condition_lowered for key in ['fog', 'mist', 'haze']):\n",
    "            weather_conditions_dict[weather_condition] = 'foggy'\n",
    "        elif any(key in weather_condition_lowered for key in ['clear', 'sun']):\n",
    "            weather_conditions_dict[weather_condition] = 'sunny'\n",
    "            \n",
    "    return weather_conditions_dict"
   ]
  },
  {
   "cell_type": "code",
   "execution_count": 0,
   "metadata": {
    "application/vnd.databricks.v1+cell": {
     "cellMetadata": {
      "byteLimit": 2048000,
      "rowLimit": 10000
     },
     "inputWidgets": {},
     "nuid": "6d435095-89ea-4c37-914c-b2114cfdcc7b",
     "showTitle": false,
     "title": ""
    }
   },
   "outputs": [],
   "source": [
    "weather_conditions_all = not_null_weather_measurements_df \\\n",
    "    .select(WEATHER_CONDITION_COL).distinct() \\\n",
    "    .to_koalas().to_numpy().reshape(-1)"
   ]
  },
  {
   "cell_type": "code",
   "execution_count": 0,
   "metadata": {
    "application/vnd.databricks.v1+cell": {
     "cellMetadata": {
      "byteLimit": 2048000,
      "rowLimit": 10000
     },
     "inputWidgets": {},
     "nuid": "de132d13-0103-4884-bc3d-9fd269973334",
     "showTitle": false,
     "title": ""
    }
   },
   "outputs": [],
   "source": [
    "weather_conditions_dict = get_weather_conditions_aggregation_dict(weather_conditions_all)"
   ]
  },
  {
   "cell_type": "markdown",
   "metadata": {
    "application/vnd.databricks.v1+cell": {
     "cellMetadata": {
      "byteLimit": 2048000,
      "rowLimit": 10000
     },
     "inputWidgets": {},
     "nuid": "f9283e71-2d49-437c-9940-715221ed12f1",
     "showTitle": false,
     "title": ""
    }
   },
   "source": [
    "#### Replace all the weather conditions in the `DataFrame` with the aggregated ones"
   ]
  },
  {
   "cell_type": "code",
   "execution_count": 0,
   "metadata": {
    "application/vnd.databricks.v1+cell": {
     "cellMetadata": {
      "byteLimit": 2048000,
      "rowLimit": 10000
     },
     "inputWidgets": {},
     "nuid": "742ef3d3-125c-4823-a85d-1671458fd359",
     "showTitle": false,
     "title": ""
    }
   },
   "outputs": [],
   "source": [
    "weather_measurements_aggregated_df = not_null_weather_measurements_df.replace(weather_conditions_dict)"
   ]
  },
  {
   "cell_type": "markdown",
   "metadata": {
    "application/vnd.databricks.v1+cell": {
     "cellMetadata": {
      "byteLimit": 2048000,
      "rowLimit": 10000
     },
     "inputWidgets": {},
     "nuid": "6e3de3dc-37ac-49c9-9af3-f4564b1ee888",
     "showTitle": false,
     "title": ""
    }
   },
   "source": [
    "#### Remove all the records that contain other weather conditions"
   ]
  },
  {
   "cell_type": "code",
   "execution_count": 0,
   "metadata": {
    "application/vnd.databricks.v1+cell": {
     "cellMetadata": {
      "byteLimit": 2048000,
      "rowLimit": 10000
     },
     "inputWidgets": {},
     "nuid": "1177c79e-7bb8-4ca0-962a-caa2a0609331",
     "showTitle": false,
     "title": ""
    }
   },
   "outputs": [],
   "source": [
    "WEATHER_CONDITIONS = set(weather_conditions_dict.values())\n",
    "\n",
    "weather_measurements_aggregated_df = weather_measurements_aggregated_df \\\n",
    "    .filter(weather_measurements_aggregated_df[WEATHER_CONDITION_COL].isin(WEATHER_CONDITIONS))"
   ]
  },
  {
   "cell_type": "code",
   "execution_count": 0,
   "metadata": {
    "application/vnd.databricks.v1+cell": {
     "cellMetadata": {
      "byteLimit": 2048000,
      "rowLimit": 10000
     },
     "inputWidgets": {},
     "nuid": "a8d1324f-0caf-4075-9193-d80170e9b086",
     "showTitle": false,
     "title": ""
    }
   },
   "outputs": [
    {
     "output_type": "stream",
     "name": "stdout",
     "output_type": "stream",
     "text": [
      "+-----------------+------+\n|weather_condition| count|\n+-----------------+------+\n|            rainy|202725|\n|            snowy| 21283|\n|            sunny|641577|\n|           cloudy|577842|\n|     thunderstorm| 10852|\n|            foggy|138707|\n+-----------------+------+\n\n"
     ]
    }
   ],
   "source": [
    "if SLOW_OPERATIONS: weather_measurements_aggregated_df.groupBy(WEATHER_CONDITION_COL).count().show()"
   ]
  },
  {
   "cell_type": "markdown",
   "metadata": {
    "application/vnd.databricks.v1+cell": {
     "cellMetadata": {
      "byteLimit": 2048000,
      "rowLimit": 10000
     },
     "inputWidgets": {},
     "nuid": "5d427faa-d360-4a27-bd62-c87ee1d6408b",
     "showTitle": false,
     "title": ""
    }
   },
   "source": [
    "### Undersampling procedure\n",
    "\n",
    "After the weather condition classes aggregation we can easily notice a huge class imbalance, i.e. some classes have a tiny fraction of the total number of instances.\n",
    "\n",
    "It is therefore necessary to process again the imbalanced data before feed them into a classifier in order to avoid it to be more sensitive to detecting the majority classes and less sensitive to the minority classes.\n",
    "Not taking care of this issue would make the classification output biased, usually resulting in always predicting the majority classes.\n",
    "\n",
    "A simple but effective procedure to deal with the imbalancing is **undersampling**, which consists in dropping a fraction of the majority classes to match the occurrences of the minority one."
   ]
  },
  {
   "cell_type": "code",
   "execution_count": 0,
   "metadata": {
    "application/vnd.databricks.v1+cell": {
     "cellMetadata": {
      "byteLimit": 2048000,
      "rowLimit": 10000
     },
     "inputWidgets": {},
     "nuid": "f5e571ca-9934-47ed-96d8-ffd53192014f",
     "showTitle": false,
     "title": ""
    }
   },
   "outputs": [],
   "source": [
    "def count_weather_condition_occurrences(dataframe: DataFrame, class_name: str) -> int:\n",
    "    '''\n",
    "    Args:\n",
    "        - dataframe: a `DataFrame` which contains a column `WEATHER_CONDITION_COL`\n",
    "        - class_name: the class name to count the occurences of\n",
    "        \n",
    "    Returns:\n",
    "        the total number of `class_name` occurences inside `dataframe`\n",
    "    '''\n",
    "    return dataframe.filter(dataframe[WEATHER_CONDITION_COL] == class_name).count()"
   ]
  },
  {
   "cell_type": "code",
   "execution_count": 0,
   "metadata": {
    "application/vnd.databricks.v1+cell": {
     "cellMetadata": {
      "byteLimit": 2048000,
      "rowLimit": 10000
     },
     "inputWidgets": {},
     "nuid": "a2b09fc2-b4f2-4309-b2ad-0d89fd9d1171",
     "showTitle": false,
     "title": ""
    }
   },
   "outputs": [],
   "source": [
    "def get_undersampling_fracs(dataframe: DataFrame) -> Dict[str, float]:\n",
    "    '''\n",
    "    Args:\n",
    "        - dataframe: a `DataFrame` of weather measurements which contains a column `WEATHER_CONDITION_COL`\n",
    "        \n",
    "    Returns:\n",
    "        a dictionary that goes from a weather condition to its fraction\n",
    "        that should be sampled in order to match the occurences of the minority class\n",
    "    '''\n",
    "\n",
    "    rainy_cnt = count_weather_condition_occurrences(dataframe, 'rainy')\n",
    "    snowy_cnt = count_weather_condition_occurrences(dataframe, 'snowy')\n",
    "    sunny_cnt = count_weather_condition_occurrences(dataframe, 'sunny')\n",
    "    foggy_cnt = count_weather_condition_occurrences(dataframe, 'foggy')\n",
    "    cloudy_cnt = count_weather_condition_occurrences(dataframe, 'cloudy')\n",
    "    thunderstorm_cnt = count_weather_condition_occurrences(dataframe, 'thunderstorm')\n",
    "\n",
    "    minority_class_cnt = np.min([rainy_cnt, snowy_cnt, sunny_cnt, cloudy_cnt, foggy_cnt, thunderstorm_cnt])\n",
    "\n",
    "    return {\n",
    "        'rainy': minority_class_cnt / rainy_cnt,\n",
    "        'snowy': minority_class_cnt / snowy_cnt,\n",
    "        'sunny': minority_class_cnt / sunny_cnt,\n",
    "        'foggy': minority_class_cnt / foggy_cnt,\n",
    "        'cloudy': minority_class_cnt / cloudy_cnt,\n",
    "        'thunderstorm': minority_class_cnt / thunderstorm_cnt\n",
    "    }"
   ]
  },
  {
   "cell_type": "markdown",
   "metadata": {
    "application/vnd.databricks.v1+cell": {
     "cellMetadata": {
      "byteLimit": 2048000,
      "rowLimit": 10000
     },
     "inputWidgets": {},
     "nuid": "45f54795-38ad-45b0-ba93-de5ea0c72f4e",
     "showTitle": false,
     "title": ""
    }
   },
   "source": [
    "#### Create the undersampled dataset\n",
    "\n",
    "Since computing the number of occurrences of each weather condition class take some time, we can directly load the previously computed dataset from the filesystem setting `LOAD_SAMPLED_DATASET = True` at the beginning of this Notebook."
   ]
  },
  {
   "cell_type": "code",
   "execution_count": 0,
   "metadata": {
    "application/vnd.databricks.v1+cell": {
     "cellMetadata": {
      "byteLimit": 2048000,
      "rowLimit": 10000
     },
     "inputWidgets": {},
     "nuid": "abe49f1c-6e97-4f82-887a-d71a811474a1",
     "showTitle": false,
     "title": ""
    }
   },
   "outputs": [],
   "source": [
    "sampled_weather_measurements_df = ks.read_csv(SAMPLED_DATASET_PATH).to_spark() if LOAD_SAMPLED_DATASET \\\n",
    "                                  else not_null_weather_measurements_df.sampleBy(WEATHER_CONDITION_COL,\n",
    "                                                                                 fractions=get_undersampling_fracs(not_null_weather_measurements_df),\n",
    "                                                                                 seed=RANDOM_SEED)"
   ]
  },
  {
   "cell_type": "markdown",
   "metadata": {
    "application/vnd.databricks.v1+cell": {
     "cellMetadata": {
      "byteLimit": 2048000,
      "rowLimit": 10000
     },
     "inputWidgets": {},
     "nuid": "799ab5e9-f35b-4cf6-ad11-cf4baf3a356a",
     "showTitle": false,
     "title": ""
    }
   },
   "source": [
    "#### Save the undersampled dataset to the filesystem"
   ]
  },
  {
   "cell_type": "code",
   "execution_count": 0,
   "metadata": {
    "application/vnd.databricks.v1+cell": {
     "cellMetadata": {
      "byteLimit": 2048000,
      "rowLimit": 10000
     },
     "inputWidgets": {},
     "nuid": "82786e77-61d2-4940-a599-9fdf1e4405bf",
     "showTitle": false,
     "title": ""
    }
   },
   "outputs": [],
   "source": [
    "if SAVE_COMPUTATIONS and not LOAD_SAMPLED_DATASET:\n",
    "    sampled_weather_measurements_df.write.csv(SAMPLED_DATASET_PATH,\n",
    "                                              mode='overwrite',\n",
    "                                              header=True)"
   ]
  },
  {
   "cell_type": "code",
   "execution_count": 0,
   "metadata": {
    "application/vnd.databricks.v1+cell": {
     "cellMetadata": {
      "byteLimit": 2048000,
      "rowLimit": 10000
     },
     "inputWidgets": {},
     "nuid": "2bdb99c7-cd2e-4918-b0be-13d886f65dd6",
     "showTitle": false,
     "title": ""
    }
   },
   "outputs": [
    {
     "output_type": "stream",
     "name": "stdout",
     "output_type": "stream",
     "text": [
      "+-----------------+-----+\n|weather_condition|count|\n+-----------------+-----+\n|            rainy| 8373|\n|            snowy| 8622|\n|            sunny| 8656|\n|           cloudy| 8644|\n|     thunderstorm| 8553|\n|            foggy| 8581|\n+-----------------+-----+\n\n"
     ]
    }
   ],
   "source": [
    "sampled_weather_measurements_df.groupBy(WEATHER_CONDITION_COL).count().show()"
   ]
  },
  {
   "cell_type": "markdown",
   "metadata": {
    "application/vnd.databricks.v1+cell": {
     "cellMetadata": {
      "byteLimit": 2048000,
      "rowLimit": 10000
     },
     "inputWidgets": {},
     "nuid": "0127957c-f872-4d51-ae31-e1524e7746e2",
     "showTitle": false,
     "title": ""
    }
   },
   "source": [
    "#### Summary of descriptive statistics"
   ]
  },
  {
   "cell_type": "code",
   "execution_count": 0,
   "metadata": {
    "application/vnd.databricks.v1+cell": {
     "cellMetadata": {
      "byteLimit": 2048000,
      "rowLimit": 10000
     },
     "inputWidgets": {},
     "nuid": "4a3ba357-c1d2-4f89-b402-291407010ff7",
     "showTitle": false,
     "title": ""
    }
   },
   "outputs": [
    {
     "output_type": "display_data",
     "data": {
      "text/html": [
       "<div>\n",
       "<style scoped>\n",
       "    .dataframe tbody tr th:only-of-type {\n",
       "        vertical-align: middle;\n",
       "    }\n",
       "\n",
       "    .dataframe tbody tr th {\n",
       "        vertical-align: top;\n",
       "    }\n",
       "\n",
       "    .dataframe thead th {\n",
       "        text-align: right;\n",
       "    }\n",
       "</style>\n",
       "<table border=\"1\" class=\"dataframe\">\n",
       "  <thead>\n",
       "    <tr style=\"text-align: right;\">\n",
       "      <th></th>\n",
       "      <th>0</th>\n",
       "      <th>1</th>\n",
       "      <th>2</th>\n",
       "      <th>3</th>\n",
       "      <th>4</th>\n",
       "    </tr>\n",
       "  </thead>\n",
       "  <tbody>\n",
       "    <tr>\n",
       "      <th>summary</th>\n",
       "      <td>count</td>\n",
       "      <td>mean</td>\n",
       "      <td>stddev</td>\n",
       "      <td>min</td>\n",
       "      <td>max</td>\n",
       "    </tr>\n",
       "    <tr>\n",
       "      <th>humidity</th>\n",
       "      <td>51429</td>\n",
       "      <td>73.35688035933033</td>\n",
       "      <td>20.63399620451051</td>\n",
       "      <td>5.0</td>\n",
       "      <td>100.0</td>\n",
       "    </tr>\n",
       "    <tr>\n",
       "      <th>pressure</th>\n",
       "      <td>51429</td>\n",
       "      <td>1017.105601897762</td>\n",
       "      <td>13.325849842166008</td>\n",
       "      <td>803.0</td>\n",
       "      <td>1100.0</td>\n",
       "    </tr>\n",
       "    <tr>\n",
       "      <th>temperature</th>\n",
       "      <td>51429</td>\n",
       "      <td>286.62986694770956</td>\n",
       "      <td>12.068790803267767</td>\n",
       "      <td>243.62</td>\n",
       "      <td>317.35</td>\n",
       "    </tr>\n",
       "    <tr>\n",
       "      <th>wind_direction</th>\n",
       "      <td>51429</td>\n",
       "      <td>183.87932878337125</td>\n",
       "      <td>103.66481323872385</td>\n",
       "      <td>0.0</td>\n",
       "      <td>360.0</td>\n",
       "    </tr>\n",
       "    <tr>\n",
       "      <th>wind_speed</th>\n",
       "      <td>51429</td>\n",
       "      <td>3.1757957572575783</td>\n",
       "      <td>2.2916893461124297</td>\n",
       "      <td>0.0</td>\n",
       "      <td>35.0</td>\n",
       "    </tr>\n",
       "    <tr>\n",
       "      <th>weather_condition</th>\n",
       "      <td>51429</td>\n",
       "      <td>None</td>\n",
       "      <td>None</td>\n",
       "      <td>cloudy</td>\n",
       "      <td>thunderstorm</td>\n",
       "    </tr>\n",
       "    <tr>\n",
       "      <th>city</th>\n",
       "      <td>51429</td>\n",
       "      <td>None</td>\n",
       "      <td>None</td>\n",
       "      <td>Albuquerque</td>\n",
       "      <td>Vancouver</td>\n",
       "    </tr>\n",
       "    <tr>\n",
       "      <th>country</th>\n",
       "      <td>51429</td>\n",
       "      <td>None</td>\n",
       "      <td>None</td>\n",
       "      <td>Canada</td>\n",
       "      <td>United States</td>\n",
       "    </tr>\n",
       "    <tr>\n",
       "      <th>latitude</th>\n",
       "      <td>51429</td>\n",
       "      <td>37.88683553742087</td>\n",
       "      <td>5.830630652854442</td>\n",
       "      <td>25.774269</td>\n",
       "      <td>49.24966</td>\n",
       "    </tr>\n",
       "    <tr>\n",
       "      <th>longitude</th>\n",
       "      <td>51429</td>\n",
       "      <td>-82.266882911394</td>\n",
       "      <td>38.71590125404199</td>\n",
       "      <td>-123.119339</td>\n",
       "      <td>35.216331</td>\n",
       "    </tr>\n",
       "  </tbody>\n",
       "</table>\n",
       "</div>"
      ]
     },
     "metadata": {
      "application/vnd.databricks.v1+output": {
       "addedWidgets": {},
       "arguments": {},
       "data": "<div>\n<style scoped>\n    .dataframe tbody tr th:only-of-type {\n        vertical-align: middle;\n    }\n\n    .dataframe tbody tr th {\n        vertical-align: top;\n    }\n\n    .dataframe thead th {\n        text-align: right;\n    }\n</style>\n<table border=\"1\" class=\"dataframe\">\n  <thead>\n    <tr style=\"text-align: right;\">\n      <th></th>\n      <th>0</th>\n      <th>1</th>\n      <th>2</th>\n      <th>3</th>\n      <th>4</th>\n    </tr>\n  </thead>\n  <tbody>\n    <tr>\n      <th>summary</th>\n      <td>count</td>\n      <td>mean</td>\n      <td>stddev</td>\n      <td>min</td>\n      <td>max</td>\n    </tr>\n    <tr>\n      <th>humidity</th>\n      <td>51429</td>\n      <td>73.35688035933033</td>\n      <td>20.63399620451051</td>\n      <td>5.0</td>\n      <td>100.0</td>\n    </tr>\n    <tr>\n      <th>pressure</th>\n      <td>51429</td>\n      <td>1017.105601897762</td>\n      <td>13.325849842166008</td>\n      <td>803.0</td>\n      <td>1100.0</td>\n    </tr>\n    <tr>\n      <th>temperature</th>\n      <td>51429</td>\n      <td>286.62986694770956</td>\n      <td>12.068790803267767</td>\n      <td>243.62</td>\n      <td>317.35</td>\n    </tr>\n    <tr>\n      <th>wind_direction</th>\n      <td>51429</td>\n      <td>183.87932878337125</td>\n      <td>103.66481323872385</td>\n      <td>0.0</td>\n      <td>360.0</td>\n    </tr>\n    <tr>\n      <th>wind_speed</th>\n      <td>51429</td>\n      <td>3.1757957572575783</td>\n      <td>2.2916893461124297</td>\n      <td>0.0</td>\n      <td>35.0</td>\n    </tr>\n    <tr>\n      <th>weather_condition</th>\n      <td>51429</td>\n      <td>None</td>\n      <td>None</td>\n      <td>cloudy</td>\n      <td>thunderstorm</td>\n    </tr>\n    <tr>\n      <th>city</th>\n      <td>51429</td>\n      <td>None</td>\n      <td>None</td>\n      <td>Albuquerque</td>\n      <td>Vancouver</td>\n    </tr>\n    <tr>\n      <th>country</th>\n      <td>51429</td>\n      <td>None</td>\n      <td>None</td>\n      <td>Canada</td>\n      <td>United States</td>\n    </tr>\n    <tr>\n      <th>latitude</th>\n      <td>51429</td>\n      <td>37.88683553742087</td>\n      <td>5.830630652854442</td>\n      <td>25.774269</td>\n      <td>49.24966</td>\n    </tr>\n    <tr>\n      <th>longitude</th>\n      <td>51429</td>\n      <td>-82.266882911394</td>\n      <td>38.71590125404199</td>\n      <td>-123.119339</td>\n      <td>35.216331</td>\n    </tr>\n  </tbody>\n</table>\n</div>",
       "datasetInfos": [],
       "metadata": {},
       "removedWidgets": [],
       "textData": null,
       "type": "htmlSandbox"
      }
     },
     "output_type": "display_data"
    }
   ],
   "source": [
    "sampled_weather_measurements_df.describe().to_koalas().transpose()"
   ]
  },
  {
   "cell_type": "markdown",
   "metadata": {
    "application/vnd.databricks.v1+cell": {
     "cellMetadata": {
      "byteLimit": 2048000,
      "rowLimit": 10000
     },
     "inputWidgets": {},
     "nuid": "3d490662-4608-452a-be7b-aa6839127405",
     "showTitle": false,
     "title": ""
    }
   },
   "source": [
    "### Split the dataset in Train and Test subsets"
   ]
  },
  {
   "cell_type": "code",
   "execution_count": 0,
   "metadata": {
    "application/vnd.databricks.v1+cell": {
     "cellMetadata": {
      "byteLimit": 2048000,
      "rowLimit": 10000
     },
     "inputWidgets": {},
     "nuid": "7aec9423-7026-427b-95f6-7d56f4e90827",
     "showTitle": false,
     "title": ""
    }
   },
   "outputs": [],
   "source": [
    "train_df, test_df = sampled_weather_measurements_df.randomSplit([0.8, 0.2], seed=RANDOM_SEED)"
   ]
  },
  {
   "cell_type": "code",
   "execution_count": 0,
   "metadata": {
    "application/vnd.databricks.v1+cell": {
     "cellMetadata": {
      "byteLimit": 2048000,
      "rowLimit": 10000
     },
     "inputWidgets": {},
     "nuid": "364b3abc-a48f-4f6d-b05d-8999c4ca672a",
     "showTitle": false,
     "title": ""
    }
   },
   "outputs": [],
   "source": [
    "# necessary due to DataBricks limits (training on a dataframe larger than this threshold causes an Internal Server Error)\n",
    "train_df = train_df.limit(MAX_TRAIN_SIZE)"
   ]
  },
  {
   "cell_type": "code",
   "execution_count": 0,
   "metadata": {
    "application/vnd.databricks.v1+cell": {
     "cellMetadata": {
      "byteLimit": 2048000,
      "rowLimit": 10000
     },
     "inputWidgets": {},
     "nuid": "8bb2a272-485c-4782-9d23-0c6282092aa9",
     "showTitle": false,
     "title": ""
    }
   },
   "outputs": [
    {
     "output_type": "stream",
     "name": "stdout",
     "output_type": "stream",
     "text": [
      "Train set size:  41346 instances\nTest set size:   10083 instances\n"
     ]
    }
   ],
   "source": [
    "print(f'Train set size:  {train_df.count()} instances')\n",
    "print(f'Test set size:   {test_df.count()} instances')"
   ]
  },
  {
   "cell_type": "markdown",
   "metadata": {
    "application/vnd.databricks.v1+cell": {
     "cellMetadata": {
      "byteLimit": 2048000,
      "rowLimit": 10000
     },
     "inputWidgets": {},
     "nuid": "cdc0e02e-6694-40fe-abfd-ef58e4c9db05",
     "showTitle": false,
     "title": ""
    }
   },
   "source": [
    "## Machine learning pipeline"
   ]
  },
  {
   "cell_type": "markdown",
   "metadata": {
    "application/vnd.databricks.v1+cell": {
     "cellMetadata": {},
     "inputWidgets": {},
     "nuid": "af6f2bf6-d52b-430c-bb78-12782cf16d38",
     "showTitle": false,
     "title": ""
    }
   },
   "source": [
    "Here we are defining some constants for the features and other columns that we are going to need in the pipelines for training and testing purposes.\n",
    "\n",
    "Note that the categorical features list, i.e. the features that are not numerical values, is an empty one. This is due to the fact that the only ones in this task are `city` and `country` that are obviously redundant and do not add any information with respect to `latitude` and `longitude`."
   ]
  },
  {
   "cell_type": "code",
   "execution_count": 0,
   "metadata": {
    "application/vnd.databricks.v1+cell": {
     "cellMetadata": {
      "byteLimit": 2048000,
      "rowLimit": 10000
     },
     "inputWidgets": {},
     "nuid": "d0c36ce4-fd50-4124-9b87-44f84171c4ec",
     "showTitle": false,
     "title": ""
    }
   },
   "outputs": [],
   "source": [
    "NUMERICAL_FEATURES = [HUMIDITY_COL,\n",
    "                      PRESSURE_COL,\n",
    "                      TEMPERATURE_COL,\n",
    "                      WIND_DIRECTION_COL,\n",
    "                      WIND_SPEED_COL,\n",
    "                      LATITUDE_COL,\n",
    "                      LONGITUDE_COL]\n",
    "\n",
    "CATEGORICAL_FEATURES = []\n",
    "\n",
    "TARGET_VARIABLE_COL = WEATHER_CONDITION_COL\n",
    "PREDICTED_TARGET_VARIABLE_COL = f'predicted_{TARGET_VARIABLE_COL}'\n",
    "\n",
    "LABEL_COL = 'label'\n",
    "PREDICTION_COL = 'prediction'\n",
    "\n",
    "FEATURES_COL = 'features'\n",
    "SCALED_FEATURES_COL = f'scaled_{FEATURES_COL}'"
   ]
  },
  {
   "cell_type": "code",
   "execution_count": 0,
   "metadata": {
    "application/vnd.databricks.v1+cell": {
     "cellMetadata": {
      "byteLimit": 2048000,
      "rowLimit": 10000
     },
     "inputWidgets": {},
     "nuid": "ad6ebfc8-3465-4d8d-8623-f2fb90a5fa58",
     "showTitle": false,
     "title": ""
    }
   },
   "outputs": [],
   "source": [
    "def save_pyspark_model(model, path: str, append_datetime: bool = True) -> None:\n",
    "    \n",
    "    if append_datetime:\n",
    "        from datetime import datetime\n",
    "        path += '-' + datetime.now().strftime(\"%Y%d%m-%H%M%S\")\n",
    "    \n",
    "    model.write().overwrite().save(path)"
   ]
  },
  {
   "cell_type": "markdown",
   "metadata": {
    "application/vnd.databricks.v1+cell": {
     "cellMetadata": {
      "byteLimit": 2048000,
      "rowLimit": 10000
     },
     "inputWidgets": {},
     "nuid": "7bfadef2-31ea-43e4-b965-3e8b11571508",
     "showTitle": false,
     "title": ""
    }
   },
   "source": [
    "### Data encoding pipeline\n",
    "\n",
    "This pipeline is responsible of encoding a `DataFrame` into a suitable format for a Machine Learning model and it is composed of the following steps:\n",
    "- a `StringIndexer` encodes the target column of labels into a column of label indices\n",
    "- one `StringIndexer` for each categorical feature\n",
    "- a `OneHotEncoder` maps the indexed categorical features to a binary vector with at most one single one-value, this encoder will keep any unseen label in the future\n",
    "- a `VectorAssembler` combines all the features (both one-hot-encoded categorical and numerical) into a single vector\n",
    "- a `StandardScaler` creates a second features column according to unit standard deviation, optionally centering the data with mean before scaling"
   ]
  },
  {
   "cell_type": "code",
   "execution_count": 0,
   "metadata": {
    "application/vnd.databricks.v1+cell": {
     "cellMetadata": {
      "byteLimit": 2048000,
      "rowLimit": 10000
     },
     "inputWidgets": {},
     "nuid": "6551030b-e2d0-4eaf-88d5-45330b7d4223",
     "showTitle": false,
     "title": ""
    }
   },
   "outputs": [],
   "source": [
    "def encoding_pipeline(dataframe: DataFrame,\n",
    "                      numerical_features: List[str],\n",
    "                      categorical_features: List[str],\n",
    "                      target_variable: str,\n",
    "                      with_std: bool = True,\n",
    "                      with_mean: bool = False) -> PipelineModel:\n",
    "    '''\n",
    "    Args:\n",
    "        - dataframe: the input `DataFrame` to fit the pipeline\n",
    "        - numerical_features: the list of column names in `dataframe` corresponding to numerical features\n",
    "        - categorical_features: the list of column names in `dataframe` corresponding to categorical features\n",
    "        - target_variable: the column name in `dataframe` corresponding to the target variable\n",
    "        - with_std: whether to scale the data to unit standard deviation or not (True by default)\n",
    "        - with_mean: whether to center the data with mean before scaling (False by default)\n",
    "\n",
    "    Returns:\n",
    "        the encoding pipeline fitted with `dataframe`\n",
    "    '''\n",
    "    \n",
    "    from pyspark.ml import Pipeline\n",
    "    from pyspark.ml.feature import StringIndexer, OneHotEncoder, VectorAssembler, StandardScaler\n",
    "\n",
    "    # Indexing, i.e. transform to numerical values, the target column and rename it as the variable `LABEL_COL`\n",
    "    label_indexer = StringIndexer(inputCol=target_variable, outputCol=LABEL_COL)\n",
    "    \n",
    "    # Create a list of indexers, one for each categorical feature\n",
    "    indexers = [StringIndexer(inputCol=c, outputCol=f'{c}_indexed', handleInvalid='keep') for c in categorical_features]\n",
    "\n",
    "    # Create the one-hot encoder for the list of features just indexed (this encoder will keep any unseen label in the future)\n",
    "    encoder = OneHotEncoder(inputCols=[indexer.getOutputCol() for indexer in indexers], \n",
    "                            outputCols=[f'{indexer.getOutputCol()}_encoded' for indexer in indexers], \n",
    "                            handleInvalid='keep')\n",
    "    \n",
    "    # Assemble all the features (both one-hot-encoded categorical and numerical) into a single vector\n",
    "    features = encoder.getOutputCols() + numerical_features    \n",
    "    assembler = VectorAssembler(inputCols=features, outputCol=FEATURES_COL)\n",
    "    \n",
    "    # Create a second feature column with the data scaled accordingly to `withStd` and `withMean`\n",
    "    scaler = StandardScaler(inputCol=assembler.getOutputCol(), outputCol=SCALED_FEATURES_COL, withStd=with_std, withMean=with_mean)\n",
    "\n",
    "    stages = [label_indexer] + indexers + [encoder] + [assembler] + [scaler]\n",
    "    pipeline = Pipeline(stages=stages)\n",
    "\n",
    "    transformer = pipeline.fit(dataframe)\n",
    "\n",
    "    return transformer"
   ]
  },
  {
   "cell_type": "markdown",
   "metadata": {
    "application/vnd.databricks.v1+cell": {
     "cellMetadata": {
      "byteLimit": 2048000,
      "rowLimit": 10000
     },
     "inputWidgets": {},
     "nuid": "e03cb83f-a007-4486-87a4-f391d9e00d35",
     "showTitle": false,
     "title": ""
    }
   },
   "source": [
    "#### Instantiate the encoding pipeline\n",
    "\n",
    "Since also this computation takes some time, as we have already seen with the dataset, we can directly load the previously computed one from the filesystem setting `LOAD_ECONDING_PIPELINE = True` at the beginning of this Notebook."
   ]
  },
  {
   "cell_type": "code",
   "execution_count": 0,
   "metadata": {
    "application/vnd.databricks.v1+cell": {
     "cellMetadata": {
      "byteLimit": 2048000,
      "rowLimit": 10000
     },
     "inputWidgets": {},
     "nuid": "31b075b5-c0b8-4cff-89a4-de87e6a46a21",
     "showTitle": false,
     "title": ""
    }
   },
   "outputs": [],
   "source": [
    "data_encoder = PipelineModel.load(ENCODING_PIPELINE_PATH) if LOAD_ECONDING_PIPELINE \\\n",
    "               else encoding_pipeline(train_df, NUMERICAL_FEATURES, CATEGORICAL_FEATURES, TARGET_VARIABLE_COL)"
   ]
  },
  {
   "cell_type": "markdown",
   "metadata": {
    "application/vnd.databricks.v1+cell": {
     "cellMetadata": {
      "byteLimit": 2048000,
      "rowLimit": 10000
     },
     "inputWidgets": {},
     "nuid": "93522b99-f9ea-47f4-bffa-ea6b7e3919d8",
     "showTitle": false,
     "title": ""
    }
   },
   "source": [
    "#### Save the encoding pipeline to the filesystem"
   ]
  },
  {
   "cell_type": "code",
   "execution_count": 0,
   "metadata": {
    "application/vnd.databricks.v1+cell": {
     "cellMetadata": {
      "byteLimit": 2048000,
      "rowLimit": 10000
     },
     "inputWidgets": {},
     "nuid": "cb9c0aa4-43d1-401f-b19a-dba6a20d7c38",
     "showTitle": false,
     "title": ""
    }
   },
   "outputs": [],
   "source": [
    "if SAVE_COMPUTATIONS and not LOAD_ECONDING_PIPELINE:\n",
    "    save_pyspark_model(data_encoder, ENCODING_PIPELINE_PATH)"
   ]
  },
  {
   "cell_type": "markdown",
   "metadata": {
    "application/vnd.databricks.v1+cell": {
     "cellMetadata": {
      "byteLimit": 2048000,
      "rowLimit": 10000
     },
     "inputWidgets": {},
     "nuid": "c724c955-7214-4586-b47a-2c252876dbaf",
     "showTitle": false,
     "title": ""
    }
   },
   "source": [
    "#### Encode the Train and Test sets with the pipeline"
   ]
  },
  {
   "cell_type": "code",
   "execution_count": 0,
   "metadata": {
    "application/vnd.databricks.v1+cell": {
     "cellMetadata": {
      "byteLimit": 2048000,
      "rowLimit": 10000
     },
     "inputWidgets": {},
     "nuid": "0330c30f-2a4a-4fa3-9dec-791a02b5cd79",
     "showTitle": false,
     "title": ""
    }
   },
   "outputs": [],
   "source": [
    "encoded_train_df = data_encoder.transform(train_df)\n",
    "encoded_test_df = data_encoder.transform(test_df)"
   ]
  },
  {
   "cell_type": "markdown",
   "metadata": {
    "application/vnd.databricks.v1+cell": {
     "cellMetadata": {
      "byteLimit": 2048000,
      "rowLimit": 10000
     },
     "inputWidgets": {},
     "nuid": "b01a0432-1ba4-4e3b-976d-2a875cd632b2",
     "showTitle": false,
     "title": ""
    }
   },
   "source": [
    "#### Show the encoding pipeline result on the Train set"
   ]
  },
  {
   "cell_type": "code",
   "execution_count": 0,
   "metadata": {
    "application/vnd.databricks.v1+cell": {
     "cellMetadata": {
      "byteLimit": 2048000,
      "rowLimit": 10000
     },
     "inputWidgets": {},
     "nuid": "60092adc-4675-4502-bcdd-b3c1f333fcd8",
     "showTitle": false,
     "title": ""
    }
   },
   "outputs": [
    {
     "output_type": "stream",
     "name": "stdout",
     "output_type": "stream",
     "text": [
      "+--------------------+--------------------+-----+\n|            features|     scaled_features|label|\n+--------------------+--------------------+-----+\n|[56.0,1018.0,293....|[2.71791759457963...|  0.0|\n|[47.0,1019.0,296....|[2.28110940973647...|  0.0|\n|[49.0,1014.0,294....|[2.37817789525717...|  5.0|\n|[39.0,1022.0,297....|[1.89283546765367...|  2.0|\n|[34.0,998.0,301.6...|[1.65016425385191...|  2.0|\n+--------------------+--------------------+-----+\nonly showing top 5 rows\n\n"
     ]
    }
   ],
   "source": [
    "encoded_train_df.select([FEATURES_COL, SCALED_FEATURES_COL, LABEL_COL]).show(5)"
   ]
  },
  {
   "cell_type": "markdown",
   "metadata": {
    "application/vnd.databricks.v1+cell": {
     "cellMetadata": {
      "byteLimit": 2048000,
      "rowLimit": 10000
     },
     "inputWidgets": {},
     "nuid": "262e5964-9feb-4295-b712-0c70f5cb74e8",
     "showTitle": false,
     "title": ""
    }
   },
   "source": [
    "### A simple Random Forest model\n",
    "\n",
    "Note that training a Machine Learning model could take up to several hours, so this simple Random Forest model, among with all the others in the Notebook, is going to be loaded from the filesystem.\n",
    "\n",
    "Set `LOAD_PRETRAINED_MODELS = False` at the beginning of this Notebook to train all the models from scratch."
   ]
  },
  {
   "cell_type": "code",
   "execution_count": 0,
   "metadata": {
    "application/vnd.databricks.v1+cell": {
     "cellMetadata": {
      "byteLimit": 2048000,
      "rowLimit": 10000
     },
     "inputWidgets": {},
     "nuid": "ee02602e-5692-417e-b4f8-9e2f75cc1fa7",
     "showTitle": false,
     "title": ""
    }
   },
   "outputs": [],
   "source": [
    "from pyspark.ml.classification import RandomForestClassifier, RandomForestClassificationModel\n",
    "\n",
    "rnd_forest_model = RandomForestClassificationModel.load(RANDOM_FOREST_MODEL_PATH) if LOAD_PRETRAINED_MODELS \\\n",
    "                   else RandomForestClassifier(featuresCol=FEATURES_COL, labelCol=LABEL_COL).fit(encoded_train_df)"
   ]
  },
  {
   "cell_type": "markdown",
   "metadata": {
    "application/vnd.databricks.v1+cell": {
     "cellMetadata": {
      "byteLimit": 2048000,
      "rowLimit": 10000
     },
     "inputWidgets": {},
     "nuid": "52ffb536-d88f-455b-9018-4704bf2c2af1",
     "showTitle": false,
     "title": ""
    }
   },
   "source": [
    "#### Compute predictions on the Test set according to the trained model"
   ]
  },
  {
   "cell_type": "code",
   "execution_count": 0,
   "metadata": {
    "application/vnd.databricks.v1+cell": {
     "cellMetadata": {
      "byteLimit": 2048000,
      "rowLimit": 10000
     },
     "inputWidgets": {},
     "nuid": "8ac84ef8-3bf7-4889-b8de-126da4429c90",
     "showTitle": false,
     "title": ""
    }
   },
   "outputs": [],
   "source": [
    "rnd_forest_predictions = rnd_forest_model.transform(encoded_test_df)"
   ]
  },
  {
   "cell_type": "markdown",
   "metadata": {
    "application/vnd.databricks.v1+cell": {
     "cellMetadata": {
      "byteLimit": 2048000,
      "rowLimit": 10000
     },
     "inputWidgets": {},
     "nuid": "574f3443-375e-4c89-98af-e5b9b6d9e1a6",
     "showTitle": false,
     "title": ""
    }
   },
   "source": [
    "#### Create a new column containing the predictions' labels\n",
    "\n",
    "The model make predictions as numerical values, indexed following the `StringIndexer` at the first stage of the encoding pipeline. We can easily convert them back to string values with `IndexToString`."
   ]
  },
  {
   "cell_type": "code",
   "execution_count": 0,
   "metadata": {
    "application/vnd.databricks.v1+cell": {
     "cellMetadata": {
      "byteLimit": 2048000,
      "rowLimit": 10000
     },
     "inputWidgets": {},
     "nuid": "13cee380-70ad-4159-a5ba-e682e77d5b6f",
     "showTitle": false,
     "title": ""
    }
   },
   "outputs": [],
   "source": [
    "from pyspark.ml.feature import IndexToString\n",
    "\n",
    "predictions_idx_to_str = IndexToString(inputCol=PREDICTION_COL,\n",
    "                                       outputCol=PREDICTED_TARGET_VARIABLE_COL,\n",
    "                                       labels=data_encoder.stages[0].labels)"
   ]
  },
  {
   "cell_type": "code",
   "execution_count": 0,
   "metadata": {
    "application/vnd.databricks.v1+cell": {
     "cellMetadata": {
      "byteLimit": 2048000,
      "rowLimit": 10000
     },
     "inputWidgets": {},
     "nuid": "13132157-4120-40a0-882c-b9f636297fa8",
     "showTitle": false,
     "title": ""
    }
   },
   "outputs": [],
   "source": [
    "rnd_forest_predictions = predictions_idx_to_str.transform(rnd_forest_predictions)"
   ]
  },
  {
   "cell_type": "markdown",
   "metadata": {
    "application/vnd.databricks.v1+cell": {
     "cellMetadata": {
      "byteLimit": 2048000,
      "rowLimit": 10000
     },
     "inputWidgets": {},
     "nuid": "09241006-77f1-401f-b1c8-f881ebbe4c37",
     "showTitle": false,
     "title": ""
    }
   },
   "source": [
    "### Evaluation of model performance on the Test Set"
   ]
  },
  {
   "cell_type": "code",
   "execution_count": 0,
   "metadata": {
    "application/vnd.databricks.v1+cell": {
     "cellMetadata": {
      "byteLimit": 2048000,
      "rowLimit": 10000
     },
     "inputWidgets": {},
     "nuid": "414aff43-c60a-4da9-9375-c55d8a48f7bb",
     "showTitle": false,
     "title": ""
    }
   },
   "outputs": [],
   "source": [
    "def eval_predictions(predictions: DataFrame) -> None:\n",
    "  \n",
    "    from sklearn.metrics import precision_score, recall_score, accuracy_score\n",
    "\n",
    "    labels = predictions.select(LABEL_COL).to_koalas().to_numpy()\n",
    "    predictions = predictions.select(PREDICTION_COL).to_koalas().to_numpy()\n",
    "\n",
    "    precision = precision_score(labels, predictions, average='macro')\n",
    "    recall = recall_score(labels, predictions, average='macro')\n",
    "    f1_score = 2 * precision * recall / (precision + recall)\n",
    "    accuracy = accuracy_score(labels, predictions)    \n",
    "\n",
    "    print(f'Accuracy: {accuracy}')\n",
    "    print(f'Precision: {precision}')\n",
    "    print(f'Recall: {recall}')\n",
    "    print(f'F1-score: {f1_score}')"
   ]
  },
  {
   "cell_type": "code",
   "execution_count": 0,
   "metadata": {
    "application/vnd.databricks.v1+cell": {
     "cellMetadata": {
      "byteLimit": 2048000,
      "rowLimit": 10000
     },
     "inputWidgets": {},
     "nuid": "42158aa5-ff70-4c8e-8153-a6231c7a1c60",
     "showTitle": false,
     "title": ""
    }
   },
   "outputs": [
    {
     "output_type": "stream",
     "name": "stdout",
     "output_type": "stream",
     "text": [
      "Accuracy: 0.5137359912724387\nPrecision: 0.4914034708264974\nRecall: 0.5140054118534055\nF1-score: 0.5024503915961188\n"
     ]
    }
   ],
   "source": [
    "eval_predictions(rnd_forest_predictions)"
   ]
  },
  {
   "cell_type": "markdown",
   "metadata": {
    "application/vnd.databricks.v1+cell": {
     "cellMetadata": {
      "byteLimit": 2048000,
      "rowLimit": 10000
     },
     "inputWidgets": {},
     "nuid": "57b0caaf-f9e0-44d9-8767-41bac26f17b4",
     "showTitle": false,
     "title": ""
    }
   },
   "source": [
    "### Plot a confusion matrix of the model predictions on the Test set\n",
    "\n",
    "A confusion matrix is an easy way to visualize the performance of a Machine Learning model. Each row of the matrix represents the number of instances (or the percentage if it is normalized) in the true class while each column represents the instances in a predicted class.\n",
    "\n",
    "All the correct predictions are located in the diagonal of the matrix, which values essentially represent the **Recall** metric of each class. Thanks to this visualization it is easy to find in which class prediction the model is lacking most, since the prediction errors will be represented by values outside the diagonal."
   ]
  },
  {
   "cell_type": "code",
   "execution_count": 0,
   "metadata": {
    "application/vnd.databricks.v1+cell": {
     "cellMetadata": {
      "byteLimit": 2048000,
      "rowLimit": 10000
     },
     "inputWidgets": {},
     "nuid": "4c572616-369c-4a49-95bf-e9cfe3f5314c",
     "showTitle": false,
     "title": ""
    }
   },
   "outputs": [],
   "source": [
    "def plot_confusion_matrix(predictions_df: DataFrame,\n",
    "                          normalize: bool = False,\n",
    "                          title: str = None):\n",
    "    '''\n",
    "    Plots a Confusion Matrix computed on the given `DataFrame`\n",
    "    \n",
    "    Args:\n",
    "        - predictions_df: a `DataFrame` that has at least a `TARGET_VARIABLE_COL` and a `PREDICTED_TARGET_VARIABLE_COL`\n",
    "        - normalize: True to normalize the values in the Confusion Matrix, False otherwise\n",
    "        - title: optional title to append on top of the plotted Confusion Matrix\n",
    "    '''\n",
    "    \n",
    "    from sklearn.metrics import confusion_matrix\n",
    "    from sklearn.utils.multiclass import unique_labels\n",
    "    \n",
    "    labels = predictions_df.select(TARGET_VARIABLE_COL).to_koalas().to_numpy()\n",
    "    pedictions = predictions_df.select(PREDICTED_TARGET_VARIABLE_COL).to_koalas().to_numpy()\n",
    "\n",
    "    if not title:\n",
    "        if normalize:\n",
    "            title = 'Normalized confusion matrix'\n",
    "        else:\n",
    "            title = 'Confusion matrix, without normalization'\n",
    "\n",
    "    # Compute confusion matrix\n",
    "    cm = confusion_matrix(labels, pedictions, labels=None)\n",
    "    \n",
    "    # Only use the labels that appear in the data\n",
    "    classes = unique_labels(labels, pedictions)\n",
    "\n",
    "    if normalize: cm = cm.astype('float') / cm.sum(axis=1)[:, np.newaxis]\n",
    "\n",
    "    fig, ax = plt.subplots()\n",
    "    im = ax.imshow(cm, interpolation='nearest', cmap=plt.cm.Blues)\n",
    "    ax.figure.colorbar(im, ax=ax)\n",
    "    \n",
    "    # We want to show all ticks...\n",
    "    ax.set(xticks=np.arange(cm.shape[1]), yticks=np.arange(cm.shape[0]),\n",
    "           # ... and label them with the respective list entries\n",
    "           xticklabels=classes, yticklabels=classes,           \n",
    "           xlabel='Predicted label', ylabel='True label',\n",
    "           title=title)\n",
    "\n",
    "    ax.set_ylim(len(classes) - 0.5, -0.5)\n",
    "\n",
    "    # Rotate the tick labels and set their alignment.\n",
    "    plt.setp(ax.get_xticklabels(), rotation=45, ha='right', rotation_mode='anchor')\n",
    "\n",
    "    # Loop over data dimensions and create text annotations.\n",
    "    fmt = '.2f' if normalize else 'd'\n",
    "    thresh = cm.max() / 2.\n",
    "    for i in range(cm.shape[0]):\n",
    "        for j in range(cm.shape[1]):\n",
    "            ax.text(j, i, format(cm[i, j], fmt), ha='center', va='center',\n",
    "                    color='white' if cm[i, j] > thresh else 'black')\n",
    "\n",
    "    fig.tight_layout()\n",
    "    plt.show()"
   ]
  },
  {
   "cell_type": "code",
   "execution_count": 0,
   "metadata": {
    "application/vnd.databricks.v1+cell": {
     "cellMetadata": {
      "byteLimit": 2048000,
      "rowLimit": 10000
     },
     "inputWidgets": {},
     "nuid": "9358b926-6f92-48b1-a4a2-aec378123808",
     "showTitle": false,
     "title": ""
    }
   },
   "outputs": [
    {
     "output_type": "display_data",
     "data": {
      "image/png": "[encoded data removed]"
     },
     "metadata": {
      "application/vnd.databricks.v1+output": {
       "addedWidgets": {},
       "arguments": {},
       "data": "data:image/png;base64,iVBORw0KGgoAAAANSUhEUgAAAUcAAAEYCAYAAADPkTRJAAAAOXRFWHRTb2Z0d2FyZQBNYXRwbG90bGliIHZlcnNpb24zLjUuMSwgaHR0cHM6Ly9tYXRwbG90bGliLm9yZy/YYfK9AAAACXBIWXMAAAsTAAALEwEAmpwYAABmj0lEQVR4nO2dd3wVxdeHnxNCbwk9hd5DJ6F3kN5UUBSlCOrPivW1F0SxAQp2URFBlN57MwhYqKIiFjokoVcpCVzO+8dskpt6b0hF5uGzH3Z3ZvY7s/fek6lnRFWxWCwWS0J8sjsDFovFkhOxxtFisViSwRpHi8ViSQZrHC0WiyUZrHG0WCyWZLDG0WKxWJLBGkeLV4hIuIjc7ZzfISLLM/j5FURERcQ3I5/rQVNE5EsROSkiG9LxnFYi8ldG5i27EJFyIvKviOTK7rxkN9Y45hBEZK+IHBGRgm737haR8GzMVrKo6hRV7ZTd+cgAWgIdgWBVbXy1D1HVtapaPeOylTk437EbUoujqvtVtZCqurIqXzkVaxxzFrmAR9L7EKdGZD9bz5QH9qrquezOSE4gK2vt1wL2B5SzGAU8KSJ+yQWKSHMR2Sgip53/m7uFhYvISBFZD5wHKjnN1AdE5B8ROSsir4pIZRH5QUTOiMh0EcnjpPcXkYUictRpZi4UkeAU8jFYRNY55085zbDY45KITHTCiorIFyISJSIRIvJabHNNRHKJyGgROSYiu4Huqb0YESkrIrOd/B0XkQ+c+z4i8oKI7HNq3pNEpKgTFttUHyQi+x2t552wocDnQDMn36+4l8tNV0WkinPeTUT+cN5lhIg86dxvKyIH3dLUdD6PUyKyXUR6uYVNFJEPRWSR85yfRaRyCmWOzf9dInLA+VzuE5FGIvKr8/wP3OJXFpHVzvs5JiJTYr9LIjIZKAcscMr7lNvzh4rIfmC12z1fESkmIgdFpKfzjEIislNEBqb2Wf1nUFV75IAD2AvcAMwGXnPu3Q2EO+fFgJPAAMAXuN25Lu6EhwP7gVpOeG5AgXlAEed+NLAKqAQUBf4ABjnpiwN9gAJAYWAGMNctf+HA3c75YGBdMmUoC0QCXZ3rOcCnQEGgFLAB+J8Tdh/wp5OmGPCdk1/fZJ6bC9gGvOs8Kx/Q0gkbAux0ylTIeX+TnbAKzjM/A/ID9Zx3UDO5ciRXLid9Fec8CmjlnPsDDZ3ztsBB5zy3k5/ngDxAe+AsUN0JnwgcBxo7n9MUYGoK34nY/H/ilLkTcBGY67zPIOAI0MaJXwXTTZAXKAl8D4xN/B1L5vmTnPea3+2erxOnE3DI0fsMmJndv5Us+01mdwbs4XwQ8caxNnDa+XK7G8cBwIZEaX4EBjvn4cCIROEKtHC73gw87XY9xv3HkyhtfeCk23U4qRhH54cV93ygtGOI8rvFuR34zjlfDdznFtaJlI1jM+BoCmGrgAfcrqsDlxzDE/tDD3YL3wDcllw5UiiXu3HcD/wPKJIoTlvijWMrx5j4uIV/Cwx3zicCn7uFdQP+TOEziM1/kNu940A/t+tZwKMppL8R2Jr4O5bM8yslc8/X7d77wG9ABM4f4+vhsM3qHIaq/g4sBJ5JFBQI7Et0bx+m9hDLgWQeedjt/EIy14UARKSAiHzqNE/PYGodfuL9qOUXwF+q+pZzXR5Ti4pymn+nMLXIUm7lcc9v4rK5UxbYp6qXkwlL/F72YQxjabd7h9zOz+OU+SrogzFm+0RkjYg0SyE/B1T1SqI8uX9Oac2Pt59haRGZ6jT5zwBfAyU8PBuS/964Mx7zR3uiqh734nn/CaxxzJm8DNxDwh9UJMbguFMO89c8lvS4WHoCU+tqoqpFgNbOffGUUESeAaoBQ91uH8DUHEuoqp9zFFHVWk54FMboxVIuFYkDQDlJfsAg8XspB1wmoQHxlnOYbgUARKSMe6CqblTV3hgDPxeYnkJ+ykrCAbHEn1Nm8TrmO1DH+QzvJOHnl9L3I8XvjfPHcTym6f1AbP/r9YA1jjkQVd0JTAOGud1eDFQTkf5OZ3k/IARTy8wICmNqIadEpBjGQHtERLo6+bxJVS+4lSEKWA6MEZEizsBJZRFp40SZDgwTkWAR8SdpTdmdDRhj+qaIFBSRfCLSwgn7FnhMRCqKSCGMgZiWQi3TE9uAWiJSX0TyAcPdyplHzPzOoqp6CTgDXEnmGT9jaoNPiUhuEWkL9ASmXkV+0kph4F/gtIgEAf+XKPwwpm82LTyHMZ5DMAOGk9LQmrimscYx5zIC00kOgNOc6YGp4R0HngJ6qOqxDNIbi+k3PAb8BCz1Ml0/TP/oDokfsf7ECRuIGZT4AzN4NBMIcMI+A5ZhDNIWzEBKsqiZc9cTM+CwHzjo6AJMACZjugH2YAYsHvYy74l1/sa895XAP8C6RFEGAHudJut9wB3JPCPGyWtXzLv8CBioqn9eTZ7SyCtAQ0yf9SKSvtM3gBecbo4nPT1MREKBxzH5dwFvYQxlan/I/jOI0+FqsVgsFjdszdFisViSwRpHi8ViSQZrHC0WiyUZrHG0WCyWZLALzXMA/sVKaFDZ1Kb5/TfwEY9TJjMcTdfUz6vjwqWsd2iTJ1fW13N2/PbLMVUtmd7n5CpSXvXyhVTj6IWjy1S1S3q10oI1jjmAoLLlmLl0bZZqSjYYqny5s/4H7LqS9cbxl8hTWa5ZoWhBz5EymNCKRVNb1eQ1evkieWvclmqci1vf92alT4ZijaPFYsleBPDJefPKrXG0WCzZTza0ZDxhjaPFYslmxNYcLRaLJQkC5EDH9dY4WiyWbEZss9pisViSxTarLRaLJTFim9UWi8WSBDuVx2KxWJIjZ9Ycc16OLACs/W4FXVs2oHPzunz2/pgk4Rt/WsfNnVpQu2xRli2ckyT837NnaBtajVefe9x7zdXL6dKyPp2a1WH8+6OTav64jps7NqdWcBGWpqDZpmFVRqRBM3zVcto3qUubRrX4aNyoJOE//7CO7u2aUbl0IRbPT+i7debUr2nbqDZtG9Vm5tSvvdZcs3o5NzSrR7vGtfnkvaTl3PDjOnp1aEa1gMIsWRBfzj9+20bfrm3p0iqUbm0as3DuTK81t67/jod7t+TBns2ZPeH9JOHLZkzisb7teeLWG3h+cG8O7Po7Lmz2F+/zYM/mPNy7JVt/CPda84c1K7m5fSi929bny4/fSRL+9ecf0LdjY/p1ac59d/Qk6uD+uLAFs77hxnYNuLFdAxbM+sZrzatCgFy5Uj+ygevWOIrIcG+8IXv5rHARCcuIZwG4XC5efe5xxk+ZzYLwTSyaN4Odf+9IECcwqCxvjP2U7jfdmuwz3nv7VcKatEg2LCXNEc89zmdT5rBwzWYWzZ3Bzr8SagYEl+WNcZ/SIwXNcW+NIKxp2jRfevpRJk6bx4r1W5k/ewb/JNIMDC7L6A/G07tPvwT3T508wbhRI5m7/HvmrVjLuFEjOX3qpFeaw59+jAnfzmXZui0sSE4zqCxvvzeenjcn1MxfoACjPvycpWs38+W0ubz2wv9x5vQprzQ/e+M5nv9wCmNnh7Nu6bwExg+gVdebeHfmasZMX8mNgx9g4pjhABzY9Tfrls1j7KzveOGjb/js9WdxuTyv3Xa5XLz50hO8N3EmM5dvYNn8Wez+J6Ez8uq16jJ5fjjTlv5Ah669GffmSwCcPnWCz8a9yVdzVjFp7mo+G/cmZ057frfpQiT1Ixu4bo1jTubXrZsoV6ESZctXJE+ePHTr3ZfVyxYliBNUtjzVQ2rj45P0I9z+61aOHT1CizYd0qW5alnC7WmCy5anekgdJBnN37dt5fixo2nS/GXLRspXrEy5Ckaz5023sHxJQs2y5cpTs1ZSzTWrV9CyTQf8/ItR1M+flm06EL5quUfNbVs2JdDscVNfVi5NVM5y5alRq06Sd1uxclUqVjL7S5UuE0jxEqU4ftzzLhU7f99KmbIVKBNcnty589Cyc282hi9LEKdAocJx5xcvnI9b+74xfBktO/cmd568lA4qR5myFdj5+1aPmtu3baZs+UoEl6tI7jx56NTzZsJXJPwONWrWmvz5zX5idRo04sihSAB+/H41TVq2o6hfMYoU9adJy3b8sGaVR82rx5kEntqRDVw3xlFEBorIryKyTUQmJwqrLyI/OeFznA2fEtQIRaSEiOx1zvM7W2DuEJE5mL1XEJEhIjLW7bn3iMi7ac3rkUORlAkMjrsuHRDE4ahIr9JeuXKFt155lqdeej1NmocPRRIQFK9ZJiCIw4eiMlczKpJAt3IGBAZxOMq7TfoOR0USGJQ4red3ZMoZv6ljmTS8W3e2bdnIpUsxlK/geb+qE0cOUaJMYNx1sdIBHD+S9N0umfolD/RoxuSxrzHkqVcBOH4kiuJuaYuXDuDEkUNJ0ibmyKFISgfEl7N0mSCOpvJ5zps2meZtOrqljX+3pcoExRnOTEN8Uj+ygevCOIpILeAFoL2q1gMeSRRlEmYz+rqYzcs97bx3P3BeVWs6cUOd+9OBniKS27m+C7MBVHJ5uldENonIppNe1D685duJ42ndvjNlAoM8R84gvpk4njYdOmWpZnZy5HAUTzx4N2+N+zTZmvvV0vW2u/ho4Y8MeOR5Zn02LsOe64nFc6bxx29bGXjvMM+RMwPJmTXH62W0uj0wI3anPlU9EdtsEZGigJ+qrnHifgXM8PC81sB7zrN+FZFfnfN/RWQ10ENEdgC5VfW35B6gquMx+wFTu17DBH61SpUJ5FDkwbjrw1ERlA4IxBt+2byBzT//wLdffcb5c/9y6dIlChQsxBPPj0g1XekygURFxGseioqgdJmAVFK4aW76mc0//8A3Ez/j/LlzXLoUQ8GCBXni+VdT1wwIJNKtnFGREQlqO57S/rQ+3s1bVGQETVu08pyuTCBREfG100NpeLcAZ8+e4e7+N/PEc8NpENbYqzTFSpXhmFvN68ThKIqXSvndtuhyI+NffxaA4qUCOO6W9vjhKIqVKpNS0jhKlQlMUAs/fCiCksl8nj+v+44vPhzNZ1MXkydv3ri0m3+Kf7dHDkUQ2tTzu00XOXCFzHVRc0wHl4l/R/m8TPM5MBhTa/zyakTr1A9l355dHNy/l5iYGBbPm0m7Tt28Sjvqwwms3vQnqzb8wVMvvU7vvrd7NIwpabbv3N0rzdEffcl3m/9i9cYdPPXySHrf0t+jYQSo1yCMvbt3cmCf0VwwZwYdu3in2aZ9R9aGr+T0qZOcPnWSteEradO+o8d0dRuEJtBcOGcmHbwsZ0xMDPcPvo2bbr2Drj1v8ioNQJVa9Ynav4fDEfu5dCmGdcvmEdamU4I4kft2x51vXruSgHIVAQhr04l1y+ZxKSaawxH7idq/hyq1G3jUDKnbkAN7dxFxYC+XYmJYvmA2bW5I+B36c/s2Rj7/KO9+NpViJeJ91jZr3Z6f1q7mzOmTnDl9kp/WrqZZ6/Zelzft2JpjdrIamCMi76jqcWfTegBU9bSInBSRVqq6FrM3cWwtci+mybwB6Ov2vO+B/sBqEakN1HV73s8iUhazf3BdrgJfX19eGDmGu/vfyBWXi5tvG0DV6iG89/ar1K7XkPadu/PbL5t5eOjtnDl1iu9WLOH90SNZGL7pauTiNF98fQxDb+/NFZeLPrcNTFbzoSG3xWl+MGokC9ekT3PEm+8y8JaeuK64uLX/IKrVCOGdN0ZQp35DOnbtwbYtm/jfoH6cPn2KVcsW8+5br7Fi/Rb8/Isx7Iln6dWxJQDDnnwOP/9iHhSN5stvvsPgfr244nLRt/9AqtUI4d03jeYNXXrw69ZN3D/4Nk6fPsXq5YsZ9/ZrLF27mcXzZrHxx3WcOnGcWVNNt/Xb740npE69VDVz+fpy9zMjefX+/ly54qJ979soV6U63370NlVC6tGobWeWTP2SX39ei6+vLwWL+PHQCNOsLlelOs079uSRm9uSK1cu7nn2dXJ5MbXF19eXp14ZzUMDb8Z1xUXvW+6kcrWafPzOSELqNKBNx26Me+NFLpw7x9MPDgKgTGAw734+laJ+xbj74acY0LsdAPcMe5qifp7f7VWTQx1PXDf7VovIIOD/ABewFWP4/lXV0SJSH/gEKADsBu5S1ZMiUgPTj+jCbJJ+p6pWEJH8mFphPWAHEAQ8qKqbHK1ngPqqmrp7Y4fa9Rqq9QSeOVhP4JlHaMWim1U13VPYfPzKa97Wz6Qa5+KCB1LVEpEuwDggF/C5qr6ZKLwcpsvMz4nzjKouTk3zeqk5oqpfYV5OcmG/AE2Tuf8nCWt/Lzj3LwCpGb6WQJpHqS2W65Z01BxFJBfwIdAROAhsFJH5qvqHW7QXgOmq+rGIhACLgQqpPTfn1WWvYUTET0T+Bi6oamZODLNY/jukf7S6MbBTVXeragwwFeidKI4CRZzzooDHuUnXTc0xK1DVU0C17M6HxXLN4bmbp4SIuHdwj3dmfIDp1jrgFnYQaJIo/XBguYg8DBQEbvAkaI2jxWLJdrzoAz+Wzv7N24GJqjpGRJoBk0WktqpeSSmBNY4WiyVbEQHxSdcAYQRQ1u062LnnzlCgC4Cq/igi+YASwJGUHmr7HC0WSzYjiKR+eGAjUFVEKopIHsxg6fxEcfYDHQBEpCZm3vLR1B5qa44WiyXbSc8yTFW9LCIPAcsw03QmqOp2ERkBbFLV+cATwGci8hhmcGawepjHaI2jxWLJdtI779aZs7g40b2X3M7/ALz3p4c1jhaLJZsRkfT2OWYK1jjmAHLn8iHAz9ul2xlD1/fXZ6kewNSh3jlqyEh8smElUOvKJT1HymD+vXg5yzUzkuxYseUJaxwtFku2k5Gu3zIKaxwtFkv2Is6Rw7DG0WKxZCuC2JqjxWKxJIftc7RYLJbEpH+FTKZgjaPFYsl2bM3RYrFYEmH7HC0WiyUlcl7F0RpHi8WSzYid52ixWCzJkhP7HHOeubYAsHL5UsLqhdCgdnXeHf1WkvDo6GjuGnA7DWpXp0PrZuzbtxeAzRs30LJJKC2bhNKiSUMWzJvrtWaTiv58e3cY0+9pxIAmZZON0756CaYMCeXrIaEM71Ej7n7XWqWZdk8jpt3TiK61SnutGb5qOe2a1KV1o1p8NG5UkvCff1hHt3bNqFS6EIvmz04QNnPq17RpVJs2jWozc+rXXmuuWbWc9k3r0rZRLT5OQbNH+2ZUKVOIxYk0B93ai7qVyzC0/81e6wGsWrGMpg1q0aheDcaNeTtJeHR0NHcP6k+jejXo3K45+53Pc/++vZQtWZi2zUNp2zyUJx95IEeX82oRH0n1yA6u65qjiAwD7ge2qOod2Z2fWFwuF08+Noy5C5cSGBRMu1ZN6dq9JzVqhsTFmTxxAn5+/mz9/S9mzZjG8Bee5cvJ31KzVm3C1/+Mr68vh6KiaNm0IV2798DXN/WP2kfgyRuq8Mj03zhyNpovBjZg7c7j7D1+Pi5OsH8+BjYtx31TtnE2+jL+BXIDUDifL0NalGPIpK2gMGFQA9btPM7Z6NTX+7pcLl58+lGmzFxEmcAgenVsyQ1delCtes24OIHBZRnzwXjGfzg2QdpTJ08wdtRIFq5cj4jQvUNzOnbpTlE/f4+aLz3zKJNnGM3enYxmVTfNoOCyjHp/PJ99NDZJ+nsfeowLF87z7VdfpKqTWPOZJ4YxY94SAoOC6dSmKV2696B6jfjPc8qkCfj5+bFx25/MmTmNES89x+dffQNAhYqVCf9hs9d62VXOq8VLn41ZzvVec3wA6JiTDCPA5k0bqFS5MhUqViJPnjz06Xsrixcm9N25eNF8br9zAAC9b+rDmvDVqCoFChSIM4QXoy96/aULCSjMwVMXiDx9kctXlJU7jtKqSvEEcXrVDWDW1sg4o3fy/CUAmlb0Z+PeU5y9eJmz0ZfZuPcUTSulbqQAftmykQoVK1OuQkXy5MlDz5tuYcWShQnilC1Xnpq16iTpk1qzegWt2nTAz78YRf38adWmA+GrlnvU3LZlI+UruGnemFQzOFYzmR3xWrRuR6FChT3quLNl0wYqVIr/PG/s048lCxckiLNk0QL69TefZ88b+7DW+TyvluwoZ3pIp7PbTOG6NY4i8glQCVgiIk+IyFwR+VVEfhKRuk6ckiKyQkS2i8jnIrJPREo4YS+KyF8isk5EvhWRJ0WksohscdOo6n7tLVGRkQQFxTdrA4OCiYqMTDGOr68vRYoU5cTx4wBs2vAzTUPr0qJRfd4Z95HHWiNAyUJ5OXw2Ou766NloShbOkyBOuWL5Keufn0/612P8nfVpUtEYwBKF8nLELe2Rs9GUKJTXo+ahqEgCAoPjrgMCgzgUldi7fSppg+LTlgkM4lCUxw3lUkjnnebVEhUVSZCbZmBQEFGJNA9FRhIU7PZ5Fo3/PPfv20O7FmH06tKeH9ev80ozO8qZHnJis/q6NY6qeh9me8Z2mP1rt6pqXeA5YJIT7WVgtarWAmYC5QBEpBHQB6gHdAXCnGfuAk6LSH0n/V3Al8npi8i9IrJJRDYdP5aqt/Y0E9a4CT9t/pXVa3/i3dFvcvHixQx5bi4foax/fh6c+isvL/iTZzpXo1Bej9tmWtJB6TIBbP1jN9+t38Srb4zivqEDOHvmTHZnK8OxNcecS0tgMoCqrgaKi0gR5/5U5/5S4KQTvwUwT1UvqupZwL2N9Dlwl7PReD/gm+QEVXW8qoapaljxEgn9/wUEBhIREb/TZGTEQQICA1OMc/nyZc6cOU2x4gmbwdVr1KRgoULs2P67xxdw9N9oSheOr+2VLJyXo2djEsQ5cjaadTuP47qiRJ2+yIGT5ynrn59j/0ZTyi1tqcJ5OfZvNJ4oExBIVOTBuOuoyAjKBAR5TBeXNiI+7aHICMoEBKaSIrV03mleLQEBgUS4aUZGRBCQSLNMYCARB90+z9Pm88ybN2/c51qvQSgVKlZi186/PWpmRzmvFhHw8ZFUj+zAGseMZxamNtkD2Kyqx9P6gIahjdi1cyd79+4hJiaGWTOn07V7zwRxunbrybdfTwZg3pxZtG7TDhFh7949XL5s+gT379/HP3/9RbnyFTxq7og6S7B/fgKK5sPXR7ihZknW7UyY9e//OU6Dcn4AFM3vS1n/AkScushPe07SuII/hfP6UjivL40r+PPTnpPJqCSkXoMw9uzeyf59e4mJiWHBnBl07NLdizcEbdp35PvwlZw+dZLTp07yffhK2rTv6DFd3QZh7N2zkwOxmnNncIOXmldLg9BG7Nm1k33O5zl31jS6dO+RIE6Xbj2Y9o35PBfMnUVL5/M8dvQoLpcLgL17drN7107KV6jkUTM7ynn1pHuDrUzhuh6tdmMtcAfwqoi0xeyRe0ZE1gO3Am+JSCcgdpRhPfCpiLyBeYc9gPEAqnpRRJYBH2O2g0wzvr6+jHpnHH16dcPlcnHnwMHUDKnFyBEv06BhGN169GTA4CH8b+ggGtSujr+/PxMmmQrqTz+sZ+yYt/H1zY2Pjw+jx35A8RIlPGq6FN5ZuZN3b6lNLhEW/naIPcfPc3fL8vx56Czrdp7g5z0naVLBnylDQrmi8GH4bs44Hqi//HEfXwxsYM5/2MdZLzxT+/r6MuLNdxl4S09cV1zc2n8Q1WqEMOaNEdSt35COXXuwbcsm7h3Uj9OnT7Fy2WLefes1Vq7fgp9/MYY98Sw9O7YE4JEnn8PPv5hXmq+88S4Db+3JlSsubrndaL7z5gjq1G9Ixy492LZ1E/c5mquWL2bs26+xfJ3pOr6lRwd27/ybc+f+pVndyrw59hOPRtnX15c3Ro/j1hu7c+WKi9sHDKZGzVq8+dpw6jcIpUv3ntwxcAgP3DOYRvVq4O/vz/gvpwDw4w9reeu1V/DN7et8nh/iXyxnljM9ZFftMDUkPSNi1zoishfTX3gFmIAZoDkP3Kuqv4pIKeBboDTwI8YIVlDVaBEZDvQHDmP2vl2qqp85z22K6aMsr6ouT/lo0DBMw9f/nMGlS53rZZuEK9nw9S6UL+vrHNmxTULFkvk3q2pYep+TL6CaVhj0fqpx/nqrS4ZopYXruuaoqhXcLm9MJsppoLOz9WMzoJGqxnamjVbV4SJSAPgecJ+I1hL40hvDaLFc7wiQK1fOqzle18bRC8oB00XEB4gB7nELGy8iIZjNwb9S1S0AIjIHqAy0z+rMWizXKjlxErg1jqmgqv8ADVII65/C/ZsyNVMWy3+M2NHqnIY1jhaLJZvJmcsHrXG0WCzZjq05WiwWS2LENK1zGtY4WiyWbEWwNUeLxWJJlpzY52iXD1osluwlA9ZWi0gXx0vWThF5JoU4t4rIH46XrWR9Hrhja445gCuqnIvO2vniL3av4TlSBrNmT8Z6H/KGHiGenVFkNMf/jfEcKYO57LqS5ZoZhZC+PkfHycuHQEfgILBRROar6h9ucaoCzwItVPWks/otVWzN0WKxZDPpdjzRGNipqrtVNQbjSat3ojj3AB+q6kkAVT3i6aHWOFoslmzHi2Z1iVj/p85xr1vyIOCA2/VB55471YBqIrLecWjdxVOebLPaYrFkL95N5TmWTscTvkBVoC0QDHwvInVU9VRqCSwWiyXbMFN50tWIjQDct8sMdu65cxD4WVUvAXtE5G+MsdyY0kNts9pisWQ7IqkfHtgIVBWRiiKSB7gNmJ8ozlxMrRFnH6hqwO7UHmprjhaLJXtJp+MJx6XgQ8AyIBcwQVW3i8gIYJOqznfCOonIH4AL+D9PXvpTNI4i8j6QoqtQVR12FeWwWCyWBEgGOJ5Q1cXA4kT3XnI7V+Bx5/CK1GqOm9KaQYvFYrkacl1LywdV9Sv3axEpoKrnMz9LFovleiMHrh70PCAjIs2cdvqfznU9Efko03NmsViuC0RMzTG1IzvwZrR6LNAZOA6gqtuA1pmYJwvw3cpltGpUmxYNa/LBu6OShEdHR3PfkDto0bAmPW5oyYH9ewG4dOkSj9w/lA7NG9KmSV3ef+dtrzU3rVvNPT2aM7RrE6Z//l6S8NlffcL/erXigZva8uzQPhyONPNut21Yx0N92scdvRuW44dVi5OkT45ffwjnqT5tefKmViyY+GGS8NWzJvPcbR15oX8XXr37ZiJ2mz2bd23/hRf6d+GF/l14vn9nNn231Otyrly+lMb1QwitU52xo99KEh4dHc2QgbcTWqc6N7Rpxv59exOEHzywn7KlivL+2DFea36/ejmdmtejQ5PafPre6CThG35cR+8bmlEjsDBLFsyJux9xYD+9b2hGz/ZN6No6lG+++sxrzbXfraBrywZ0bl6Xz95PmteNP63j5k4tqF22KMsWzkkQViu4CDfd0IybbmjGA4Nu9Vrzarlmt2ZV1QOJMnhdbhwlIp8D77iv2cwMXC4Xz//fI3w7ZzEBgcF0a9+cTl17UK1Gzbg4307+kqJF/Vi/ZQfzZk1n5PDn+WTCFBbOnUVMdDSrftjChfPnadu0Pjf2vZWy5Sp41PzotWcY+dl0SpQJ5NF+nWnarjPlKlePi1O5Zm3GTVtGvvwFWDR1IhPGjODZMZ9Rr3FLPpi1GoCzp08ytGtTGjZv67GcV1wuJr39Ak99MIVipQN4eVBPGrbuSFClanFxmnW+kfZ9BgCwZc1yvnn3Vf7v/ckEV67OK5MWksvXl1PHDvN8/y40aHUDuXxT/0q7XC6eenwYsxcsJTAomA6tmtKle09q1AyJi/P1VxPw8/Nn829/MWvGNIa/+CwTJn0bF/78M0/SoZPHBRYJNIc/8xgTpy+kTGAQfTq3on3n7lStHv95BgaV5a1x4/ni43EJ0pYsXYbpi8LJmzcv5879S/c2YXTo3J3SZVJfM+5yuXj1ucf5Yup8SgcEcWu31rTr3I0q1RJqvjH2UyZ8Mi5J+nz58jNn5Y9elzE9COCTA9vV3tQcD4hIc0BFJLeIPAnsyOR8ZRtiSPa9qOrdmW0YAbZu3kiFSpUpX6ESefLkoffNt7Js8YIEcZYvWcAttxuj0b33zaxb8x2qiohw/vw5Ll++zIWLF8idJzeFChfxqPn3b1sILFeRgLIVyJ07D6273siPqxPWxuo1bkm+/AUAqFEvlGOHo5I8Z93yBYS1ah8XLzV2bf+FUmUrUCq4PL6589C0Y0+2rFmeIE7+QoXjzqMvXoirReTNlz/OEF6Kjva6drF50wYqVqpMhYrm3d7c91aWLEw4JW7xwvncdod5t71v6sP34auJ3cJ40YJ5lC9fIYEx9cSvWzZRvmJlylWoSJ48eeh+Y19WLV2YIE5wufLUqFUHSTQZOk+ePOTNmxeAmOhorlzxzsHEr1s3Ua5CJcqWN5rdevdl9bJFCeIElS1P9ZDa6Z2AnSH4SOpHtuTJizj3AQ9i1ipGAvWd6/8MIlLBcXc0Cfgd+MJZv7ldRF5xixcuImHO+b8iMlJEtjlrNUuLSGER2SMiuZ04RdyvveVQVCSBQfET/gMCgzgUlXDC/6HISAKDggGzgXuRIkU4eeI43XvfTIECBWlQozyN61Thvocew9+Lze6PHzlECbfaSInSgRw/cijF+Mtmf0NYq6QbLK5ZMpc2Xb3bY+zk0UMULx2vWax0ACePHk4Sb+X0r3jyxpZMe+917nwy7uNg1+9befbWDjx3eycGP/O6x1ojQFRkJEHB8e82MCiYqKjIFOOYd1uUE8eP8++//zLunbd56rmXSAuHDkUSEBi/1LdMYBCHD0WmkiJRniMO0qNtY1o3rMa9Dz3usdYIcORQJGUCg+OuSwcEcTjKe83o6Iv07dKKfj3asXLJAs8J0oOkvq46uxzhejSOqnpMVe9Q1dKqWlJV7/Q0efIapSrwkarWAp5w1nHWBdqISN1k4hcEflLVeph9q+9R1bNAONDdiXMbMNtZspQAEbk3dhH98WPHMqwQv2zeSK5cudiyYy8//fIXn344ln17U10IkGZWL5jJP9t/oe9dCf9Gnjh6mL3//Eloi3YZqnfDrYMYPXcdtz78LPMmxPeFVq7dgDemr2L4VwtYOPFDYqIvZqhuYt4a+Qr3P/QohQoVylSdxAQEBbMwfAMrf/qNOdOmcOxI0j8gGc2qDTuYuXQtoz+cwBsvP83+DP4OuRPbrE7tyA68Ga2uJCILROSoiBwRkXkiUikrMpfF7FPVn5zzW0VkC7AVqAUk14aKAWLbRpuBCs7558BdzvldwJfJianqeFUNU9Ww4iVKJAgrExBIZES8k5GoyAjKBCR0MlImMJDIiIMAXL58mTNnzuBfrDhzZk6lbYdO5M6dmxIlS9GoSXO2bd3isfDFS5XhmFtt5tjhSIqXKpMk3tYf1zBt/Fhefn8SufPkTRD2/dJ5NO/QFd/c3lWU/UuW4fjheM0Th6PwL1k6xfhNO/ViS/jyJPeDKlYlb4GCHNz1l0fNgMBAIg7Gv9vIiIMEBASmGMe829MUK16czZs2MPyFZ6hXszKffPge745+k88+STqIlJgyZQKJioyv+R+KjPCq9peY0mUCqVojhI0//+AxbqkygRyKPBh3fTgqgtIB3mvGxi1bviKNm7dix+/b0pzftHBN1hyBb4DpQAAQCMwAvk01xbXJOQARqQg8CXRQ1brAIiBfMvEvaWxHlBmg8gVQ1fVABRFpC+RS1d/TmpH6DcPYs2sn+/ftISYmhnmzp9Opa48EcTp16cGMbycDsGjebFq0bouIEBRcjvVrwwE4f+4cWzb9TJWq1fFEtdoNiNy/m0MH93HpUgzfL5lL03adE8TZteM33n/l/3jpg0n4FS+Z5BlrlsyhTTfvt+2uFFKPw/v3cDRiP5cvxfDTigU0aN0xQZxD+/fEnW9bt4rSzsDS0Yj9uC5fBuBY1EGi9u6kZGBZPNEwtBG7d+1k317zbmfPnE6X7j0TxOnavSdTp5h3O2/OLFq1aYeIsHjFGrbt2MW2Hbu478FhPPbkM9xzn+cepjoNQtm7eycH9u0lJiaGRXNn0qFzd4/pAKIiD3LxwgUATp86yeYNP1KpclXPmvVD2bdnFwf3G83F82bSrlM3rzRPnzpJTHQ0ACePH2PLxp+oXC3znCN7WledXWM13oxWF1DVyW7XX4vI/2VWhnIARTCG8rSIlAa6YprKaWES5o/Kq1eTAV9fX157eyz9+/TgistFvzsGU71mCKNef4V69RvSqVtPbhtwF8Puu4sWDWvi51+Mj74wH9Hgu+/jsYfuoV2z+qgq/foPJKR2HY+auXx9uf+5N3jhf7dxxeWi0023U75KDSZ/8BZVa9WjabsufDHmFS6eP8cbj98NQMmAIF7+wOgejtjPsUOR1Alr7nU5c/n6MvCpV3l72ADU5aJ1r34EV67OrE/GULFmHRq26cTK6RPZvmEduXxzU7BIUe59+R0A/t62kYUTPyKXb27Ex4dBT4+ksJ/nvlVfX1/eHjOOvr274XK5uGPgYGqG1OL1V1+mQcMwunbvyZ2DhnDf3YMIrVMdf39/Pv/Ko0d9j5ovv/EOQ27rhcvlou/tA6laI4Sxb42gTr2GdOjSg1+3buKBu27jzKlTfLd8Me+Neo0l329m1z9/8ebLzyIiqCpD73+E6iG1vdJ8YeQY7u5/I1dcLm6+bQBVq4fw3tuvUrteQ9p37s5vv2zm4aG3G80VS3h/9EgWhm9i9z9/8fLTw/Dx8eHKlSvc8+DjCUa5M4OcOFot8ZWfRAEisd+0p4GTGO+6CvQD/FX12SzJYRYgIhWAhapa27meCDTHONA8DcxX1YkiEg48qaqbRORfVS3kxO8L9FDVwc51GWAPEJCav7hY6jUI1SXfZc20iVi2RZzKUj2AYxeis1zTbpOQedQMLLQ5nT4WAShWMUQ7v5L6H6CpgxpkiFZaSK3muBljDGNN+v/cwhSzH8N/AlXdC9R2ux6cQry2bueF3M5nAjPdorYEZnpjGC2W6x0zIJPduUhKamurK2ZlRv4rON6MugLedfBYLNc7kn2DLqnh1QoZEamNGbGNG5hQ1UmZlalrGVV9OLvzYLFca+TEfas9GkcReRnjQTcE4y+tK7AOM+hgsVgs6ULImS7LvJnK0xfoABxS1buAekDRTM2VxWK5rhAPR3bgTbP6gqpeEZHLIlIEOELCzWwsFovlqol1WZbT8MY4bhIRP+AzzAj2v0DWzjuxWCz/aa7JPkdVfcA5/URElgJFVPXXzM2WxWK5XhCyz6FtaqS2wVbD1MJU1fOCXYvFYvFENi4RTI3Uao6puTlWIKm/KstV4SNCgTy5slSzeaXiWaoH2dOvVLJp1m+SeWLD+1mumRObpWkhVw7Mf2qTwDPW75TFYrEkg5AzjbtXk8AtFoslM/HNfmfkSbDG0WKxZCvGLZmtOVosFksScuXAmqM3nsBFRO4UkZec63Ii0jjzs2axWK4HrtltEoCPgGbA7c71WcCzb3iLxWLxEh8PR3bgTbO6iao2FJGtAKp6UkTyZHK+LBbLdYJIzpwE7o1RviQiuTBzGxGRkkDWux22WCz/WdK7h4yIdHG2V94pIs+kEq+PiGjsFsup4Y1xfA+YA5QSkZEYd2Wve5HOYrFYPCKAr4+keqSa3lTePsS4UwwBbheRJDuGikhh4BHgZ2/y5c3a6ikishnjtkyAG1V1hzcPt1gsFm9I55hLY2Cnqu42z5KpQG/gj0TxXgXeArzaINCb0epywHlgATAfOOfcs2QiK5cvpVH9EBrWqc67o99KEh4dHc2QgbfTsE51bmjTjP379iYIP3BgP8GlivL+2NRWgSbVDKsXQoPaKWveNeB2GtSuTofWzdjnaG7euIGWTUJp2SSUFk0asmDeXK81VyxfSoM6NakXUo0xo5LXHHTnbdQLqUa7Vs3Yt9dorl65glbNGtEktB6tmjVizXervdbs2Lwm2+a8yO/zXubJuzomCS8X4M/iTx5mw7RnWfbZIwSV8osLm/fBA0R9/zazxt3ntR7A8mVLqVerBrVrVmX0228mW84B/W+jds2qtG7RNK6cx48fp0vH9pT0L8xjjzyUZs26tapTq0YVRqWgeWf/ftSqUYVWzZvEaQKMeusNatWoQt1a1VmxfFmadNOMmOWDqR1ACRHZ5Hbc6/aEIMxmeLEcdO7FSxhfEWVVdZG32fKmWb0Is3n9ImAVsBtY4q2AJe24XC7+7/FhzJizkJ82/8asGdP4c0fCP4KTv5pAUT9/tvz2F/c/9CjDX0y439kLzzzJDZ26pEnzyceGMXPuQn7e8hszk9OcOAE/P3+2/v4XDzz8KMNfMJo1a9UmfP3PrPt5M7PmLuKxYfdz2dlT2pPmE488zOx5i9j4y+/MnD41ieYkR3PbH3/z4MOP8NILpjupeIkSTJ81j583b+PTz7/knqGDvCqnj48w9plb6f3QRzTo8xq3dAmlRqUyCeK88dhNTFm0gcb93uD18UsY8XCvuLB3J61k6Atpc4Lvcrl47JGHmLtgMVu2bWfGtKns+CNhOSd++QV+/n78vuMfHh72KC88Z8qZL18+Xho+gtffGpVmzUeHPci8BUvY+usfzJj6bVLNCV/g7+fP9j938vAjj/H8c08DsOOPP5gxbSpbtm1n/sKlPPLwA7hcrjTpp4XYDbZSO4Bjqhrmdoz3+vkiPsA7wBNpyZdH46iqdVS1rvN/VUwV1vpzzEQ2b9pApUqVqVCxEnny5OHmvreyeOH8BHGWLJzP7XcMAKD3TX1YE76a2G12Fy2YR7nyFahRM0m3S+qaleM1+ySjuXjRfG6/M6lmgQIF8PU1PTQXoy96vdph00ajWbGSo3lLPxYuSKi5aME8+t85EIAbb+5L+HdGs179BgQEmm1Xa4bU4uKFC0RHe976tVHtCuw6cIy9Ece5dNnFjGVb6NG2boI4NSoFsGbDXwCs2fg3PdrG7/sdvuFvzp5L2xazmzZuoHLlKnHl7HtrPxYumJeonPO5c4Ax8Df16Uv4d6tQVQoWLEjzFi3Jly9fco9OkY0bEmre0u+2JJoLF8zjDkfz5j59CV9tNBcumMct/W4jb968VKhYkcqVq7Bxw4Y06aeVXD6S6uGBCBI64A527sVSGLO7aLiI7AWaAvM9DcqkeQqR46qsSVrT5QREpKCILBKRbSLyu4j0E5G9IvKKiGwRkd9EpIYTt5iIzBWRX0XkJxGp69z/TUT8nMnxx0VkoHN/koh0FJHvRaS+m+Y6EamXlnxGRUYSFBz/WQcGBRMVFZkgTqRbHF9fX4oUKcqJ48f5999/GffO2zz93EtpejdRkZEEBSXSjIxMMY67JsCmDT/TNLQuLRrV551xH8UZy9Q1IxKUMygoiKjIiARxIiMjCXYrZ9EiRTnuaMYyb84s6tVvSN68eT1qBpYqysHDJ+OuIw6fJKhkwl0/fvs7gt7t6wPQu309ihTKT7GiBT0+OyUiIyIICg6Ouw4KCiYycTkjIhJ+nkWTljNNmpERce8tVjMiIvG7jSC4bFLNiIikaRPnNyPxsuaYGhuBqiJS0ZlmeBumCxAAVT2tqiVUtYKqVgB+Anqp6qbUHupNn+PjbseTIvINEOkpXQ6lCxCpqvVUtTaw1Ll/TFUbAh8DTzr3XgG2qmpd4DniNxRbD7QAamG6GFo595sBPwBfAIMBRKQakE9VtyXOiIjcG9t/cuzY0Qwr4FsjX+H+hx6lUKFCniNnIGGNm/DT5l9ZvfYn3h39JhcvXswS3R1/bOel559l3AcfZ9gzn313Dq1Cq/Djt0/TKrQKEYdP4nLZ2WuZhqSv5qiql4GHgGXADmC6qm4XkREi0ivVxKngzSTwwm7nlzF9j7OuVjCb+Q0YIyJvAQtVda3TBJzthG8GbnbOWwJ9AFR1tYgUd/bQWQu0BvZhjOm9IhIEnFTVcyIyA3hRRP4PGAJMTC4jTp/JeIAGDcPUPSwgMJCIg/H9y5ERBwkICEyQPtCJExQUzOXLlzlz5jTFihdn06YNzJs7m5dfeIbTp0/h4+ND3nz5uPe+B1N9MQGBgUREJNIMDEw2TlBwQk13qteoScFChdix/XcahKY+lSwgMChBOSMiIggITNCPTmBgIAcPxmuePnOa4o5mxMGD3H5rHz79YiKVKldOVSuuXEdOE1zaP+46qLQ/EUdPJ4gTdfQ0tz35OQAF8+fhxg71Of3vBa+enxyBQUFEHDwYdx0RcZDAxOUMMu8iOPbdno4v51VpBgZxMMG7PUhQUOJ3G8TBA0k1g4KSpk2c34wktuaYHlR1MWZ3VPd7yTafVLWtN89MtebozB8qrKqvOMdIVZ2iqllTLchgVPVvoCHGSL4Wu14ciO1EcuH5D8b3mNpiKyAcOIrZoXGto3EeWIGZSnArMCWt+WwY2ohdu3ayb+8eYmJimD1zOl2790wQp0v3nnw7ZTJgmpWt27RDRFiyYg2/7tjFrzt2cf+Dw3j8yWc8GsY4zZ072etozkpGs2u3nnz7dVLNvXv3xA3A7N+/j3/++oty5St41AwNczT3OJozptG9R0LNbj168c3XptI+d/ZM2rQ1mqdOnaLvTT155bXXada8hUetWDZt30eVciUpH1ic3L65uKVzQxaFJ9z1o7hfwbh+0/8b0pmv5v3k9fNTKufOnf/ElXPm9Gl075GwQtOtR0++nvwVAHNmzaRN2/bp8lQT1iih5oxpU5Nodu/RiymO5uxZM2nTzmh279GLGdOmEh0dzd49e9i58x8aNc5Mdwqpj1RnlyPc1LZJ8FXVyyLi/TcvhyMigcAJVf1aRE4Bd6cSfS1wB/CqiLTFNL3PAGdEpASQR1V3i8g6TFPcfZ7F55ipT2tV9SRpxNfXl7fHjKNP7264XC7uGDiYmiG1eP3Vl6nfMIxu3XsyYNAQ7rt7EA3rVMff358vvvomrTJJNEe9M44+vYzmnY7myBEv06BhGN169GTA4CH8b+ggGtQ2mhMmGc2ffljP2DFv4+ubGx8fH0aP/YDiJUp4pTl67Hvc2LMrV1wuBgy6i5ohtXjtlZdpEBpK9x69GDh4CPcMGUi9kGr4FyvGl47m+I8/ZPeunbz1+mu89fprAMxbuJSSpUqlqulyXeGxt6az4KMHyeUjfDXvJ3bsPsSL93dnyx/7WbTmN1qHVWXEw71QhXVbdvLoG9Pj0q/84lGqVSxNofx52bn0Ve575RtW/pj6tF9fX1/eGfs+vbp3wXXFxcBBdxFSqxYjhr9Ew9AwevTsxeC7hjJ08EBq16yKv38xJn39bVz6GlUrcvbMGWJiYlgwfx4LFi2jZkjqg22+vr68O+4DenbvjMvlYtDgIUk1hwxlyOAB1KpRBX//YkyeMhWAkFq16HPLrTSoG4Kvry9j3/uQXLkyz1O9cXabaY+/aiR2hDNJgMgWZ031x5g5QzOAc7Hhqjo72YQ5GBHpDIzCLH+8BNwPzATCVPWYM3o1WlXbikgxYAJQCTPP897YjcVEZDKQS1X7i0hzzKqhkqp63E3rT+BRVV2KBxo0DNPv1nk1aT/DyI4vo90mIfPIDn+I+XPLZlX1uAzPE+Vr1tXnv1yQapz/NauQIVppwZs+x3zAccyeMYox9Ep8P901g6ouw3TaulPBLXwT0NY5PwHcmMJzBrid/0Ci7gmnhuoDLE9/ri2W/zY5teaYmnEsJSKPA78TbxRjSb66acGZ2jMSeFxV7RCnxeIFOdErT2rGMRdQiIRGMRZrHFNAVScRP+3HYrF4QMg+n42pkZpxjFLVEVmWE4vFcn0iZJu379RIzTjmvNxaLJb/HLHbJOQ0UjOOHbIsFxaL5bom55nGVIyjM1prsVgsmYzgc40NyFgsFkumcy0OyFgsFkuWcK31OVqyCNcV5cyFS1mqmR3NmOz4Afy9yntP6BnFo3MTe+fPfIY1L5/lmhmGZM8KH09Y42ixWLIVgWxzLpEa1jhaLJZsJ+eZRmscLRZLNmNrjhaLxZICOdA2WuNosViyG7Gj1RaLxZIYM8/RGkeLxWJJiIBPDpwFbo2jxWLJdsTWHC0WiyUhdrTaYrFYUiAH2sYcud7bAoSvWk67JnVp3agWH40blST85x/W0a1dMyqVLsSi+Qm385k59WvaNKpNm0a1mTn1a681v1u5nDaN69AyNIQPxybVjI6O5v4hd9IyNISeN7TiwP69AMTExPD4g/dwQ4tQOrVqxI/r1qRBcxmtGtWmRcOafPBu8pr3DbmDFg1r0uOGlnGaly5d4pH7h9KheUPaNKnL+++87bVm+KrltG1ch1ZhKZfzgaF30ioshF4dE5bziYfuoWPLUDq3Tls5a5UuxCtdqvBq1yp0rp7yzowNggrz6S21KO+fD4DG5YryQsdKccfHfUMILprPK811362gR+sGdG1Rj88/SLqMctNP67ilS0vqlfdj+cK5CcKiIg5wT//e9GwbSq92YUQc2Od1WdNKbM0xp23Nao1jDsTlcvHi04/y1bR5rFy/lfmzZ/D3Xwm3/wwMLsuYD8bTu0+/BPdPnTzB2FEjmbf8e+avWMvYUSM5fcrz7rAul4sXnnqESdPnsfrHX5g3azp//5lQc+rXE/Hz82Pd5j+4+/6HeX34CwB8M2kCACvXb+ab2Yt49cVnuHLF8/Y5LpeL5//vEb6eMZ/vftrG3FnTkmh+O/lLihb1Y/2WHdxz/zBGDn8egIVzZxETHc2qH7aw9Luf+Hri53FGzJtyfjV9Hqt++IX5s5OWc9rXEynq58faTaacb7xiyvmtU84V6zYzZdYiXn3Ju3IKcHvDAN5fu4/hS3fRqFxRAgrnTRIvr68PHaoWZ/fx83H3Nuw/zWsrdvPait1M+DmC4+cucfC0523jXS4Xr73wBB9Pns387zayeN5Mdv39Z4I4AUFlee2dT+h2461J0j/7yL3cdd8jLAjfzNSF4RQrUdKj5tUjHv9lB9Y45kB+2bKRChUrU65CRfLkyUPPm25hxZKFCeKULVeemrXq4JNomG/N6hW0atMBP/9iFPXzp1WbDoSv8rwJ4i+bjWb5CpXIkycPvW6+heVLEm6XuXzxAvredicA3XvfzPrvv0NV+eevHbRo3RaAEiVLUaRoUbZt3exRc+vmjVSoFK/Z++ZbWbY4keaSBdxy+4A4zXVrjKaIcP78OS5fvsyFixfInSc3hQoX8VzOLQnL2fOmZMq5JL6c3XolLGfzVm7lLFKUX70oZ8Vi+TnybwzHzl3CpcqmA6epF1Q4SbzetUqx9M9jXHIlv0VT43JF2XjgtEc9gN9+2US5CpUoW74iufPkoWvvPqxenvA7FFS2PNVDaidxQrLr7z9xuS7TvHV7AAoULET+/AW80r0qxDSrUzuyg+vOOIpIQRFZJCLbROR3EeknIntFpIQTHiYi4c75cBGZICLhIrJbRIY59yuIyA4R+UxEtovIchHJLyKVRWSLm1ZV92tvORQVSUBgcNx1QGAQh6IivE8bFJ+2TGAQh6IivUoXGJRYMzLFOL6+vhQuUoSTJ44TUqsOK5Ys4vLly+zft4ffftlKVMRBLzXLJtJMWM5DkQk1izia3XvfTIECBWlQozyN61Thvocew9+/2FWV83By5QxMWs6ateuwYml8OX/ftpVIL8rplz83J8/He106ef4SfvkTdveX9cuHf4Hc/H7o3xSfE1a2KBv3e2ccj0RFUSYgKO66dJkgjkRFeZV27+5/KFykKI/c3Z++nVsw+tXncblcXqW9GnJqs/p6HJDpAkSqancAESkKvJVK/BpAO6Aw8JeIfOzcrwrcrqr3iMh0oI+qfi0ip0Wkvqr+AtwFfJncQ0XkXuBegKDgsslFuWbod+dg/vn7L7q3b05Q2XKENm6KT65cmar5y+aN5MqViy079nL61Elu6taeVm3bU75CpUzT7HfHYHb+/Rc9OjQnKNiUM1cGlFOAW+qV4auNKf8BrFAsPzGuK0SeiU63nidcl11s2fAjM5auIyCoLE/eP4i507+mz+2DMk0zB47HXH81R+A3oKOIvCUirVTV05/iRaoararHgCNAaef+HscAAmwGKjjnnwN3iUguoB/wTXIPVdXxqhqmqmHFiifszykTEEhUZHyNJCoyIkEtIDXKBAQmqLUdioygTECgV+nca0FRyaRzj3P58mXOnjmDf7Hi+Pr6Mvz1USz7fgMTpszkzOnTVKpc1UvNA4k0E5azTGBCzTOO5pyZU2nboRO5c+emRMlSNGrSnG1bPVfSkytn6eTKGZl8OV8eOYqlazbwhVPOil6U89SFS/gXyB137V8gN6cuXI67zuvrQ1DRvDzetgIju1WlUvH8PNCiXNygDECjNNQaAUoFBCSohR8+FEGpgACv0pYOCKRGSB3Klq+Ir68v7Tv3YMfv27zWvhpEJNUjO7jujKOq/g00xBjJ10TkJeAy8e8i8VCg+59qF/G17ZTuzwK6Aj2Azap6PK15rNcgjD27d7J/315iYmJYMGcGHbt09yptm/Yd+T58JadPneT0qZN8H76SNu07etZsGMbe3TvZv28PMTExzJ89g45deiSI07Frj7jR70XzZtOiVVtEhAvnz3P+3DkAvv9uJbl8c1GtRk2PmvUbhrFnV7zmvNnT6dQ1oWanLj2Y8e3keM3WRjMouBzr14YDcP7cObZs+pkqVat7Lmfcu90T/24TaXbsEl/OxfNn0zyd5dx78gKlCuWheIHc5BIhrGxRtkWejQu/ePkKT8z/i+cX/8Pzi/9h9/ELfLR+P/tOmoEXAULLFvG6vxGgdr1Q9u/ZxcH9e7kUE8OSebNo19G771Dt+qGcOXOaE8ePArDhhzVUrlrDa+2rIb19jiLSRUT+EpGdIvJMMuGPi8gfIvKriKwSEY/ega+7ZrWIBAInnCbwKeBuYC8QCiwB+qTn+ap6UUSWAR8DQ6/mGb6+vox4810G3tIT1xUXt/YfRLUaIYx5YwR16zekY9cebNuyiXsH9eP06VOsXLaYd996jZXrt+DnX4xhTzxLz44tAXjkyefw86IvztfXl1ffHsudfXvicrnod8cgqtcMYfTrr1C3QSiduvbgtjsH8+h9Q2gZGoKffzE+/HwSAMeOHeHOvj3xER/KBAYy7pMJXpfztbfH0r9PD664XPS7YzDVa4Yw6vVXqFe/IZ269eS2AXcx7L67aNGwJn7+xfjoC2MoB999H489dA/tmtVHVenXfyAhtet4V863xjLgFqec/QdRvUYIY954hTr1TTn73TmYR+8fQquwEPz8ivGBWzkH9O2Jj48PpQMCGfuxd+W8ojB1axSPtC6Pjwjr95wk6kw0PWuVZN+Ji/wadTbV9FVLFuDk+UscO+e9t3hfX1+ee3U0/7vjRlxXrnBTvwFUqV6TD0a9Rq16DWjXqTu//bKZR+/uz5nTpwhfsYQP3xnJvNWmu+LJF0cytF9PUCWkbn369h/stfbVkJ7KodNK+xDoCBwENorIfFV1d8m+FQhT1fMicj/wNqZll/JzVZMfGfuvIiKdgVHAFeAScD+QH/gCOAOEY15iWxEZDvyrqqOdtL9jaoQAC1W1tnP/SaCQqg53rpsCM4HyquqxJ7tu/VBduGp9RhXRK66XbRJcV7L++/3aqp1Zrpkd2yTUDi68WVXD0vuckDoNdNL81OeMNqpUNEUtEWkGDFfVzs71swCq+kYK8RsAH6hqi9Q0r7uao6ouA5YlE1QtmbjDE13Xdrus7XZ/dKKkLYEvvTGMFst1j4AXf6tLiMgmt+vxqjreOQ8CDriFHQSapPKsoZhWYqpcd8YxsxGROUBloH1258ViuWbwbByPZUQtVUTuBMKANp7iWuOYwajqTdmdB4vl2iLdzm4jAPf5cMHOvYQqIjcAzwNtVNXjnKjrbrTaYrHkLMSLwwMbgaoiUlFE8gC3AfMTaJh+xk+BXqp6xJt82ZqjxWLJdtIzl1FVL4vIQ5ixhFzABFXdLiIjgE2qOh8zCFsImOFo7VfVXqk91xpHi8WS7aR3IoOqLgYWJ7r3ktv5DWl9pjWOFosle8lG5xKpYY2jxWLJduw2CRaLxZIIwat5jlmONY45AB8fKJgvaz+K3YfPZakeQEiwZ3+LGU12/Ohe6FAlyzV7vZ+1K6wyHGscLRaLJSm2WW2xWCzJYJvVFovFkhzWOFosFktCRLLHY5MnrHG0WCzZTs4zjdY4WiyWbCf7tkJIDWscLRZLtpMDbaM1jhaLJXsRrHG0WCyWZLHzHC0WiyUZcuI8R+vsNoeyasUymjSoRaO6NRg35u0k4dHR0Qwd2J9GdWvQqW1z9u/bC8D+fXsJLlGYts1CadsslCeGPeC15o9rVtL3hjBubteArz55N0n4lC8+oF/nJvTv1pwH7uxFVMT+uLBhg/vQvn45Hrs71Q3dkrBi2VIa1K5B3ZpVGTPqzWTLOfCO26hbsyptWzZl315TzuPHj9O1U3tKFyvM4488lCbN5cuWUq9WDWrXrMrot5PXHND/NmrXrErrFgk1u3RsT0n/wjyWRs3wVctp27gOrcJC+HDsqCThP/+wlm7tmlKxVEEWzZ+dIGzGt5Np3agWrRvVitum1huaVy7GnAebMO/hptzVIvkNuDqGlGLWA02YeX9jXr85BICAovn45t5GTP1fI2be35i+oZ73PU8XHrZlza4md6bUHEXED+ivqh+JSFvgSVXtkWqiq9MZjtvugOl4TgWguap+kxH5Si8ul4unHx/GzPlLCAwKpmPrpnTp1oPqNUPi4kz5agJ+fn5s/PVPZs+YxisvPscXk0z2K1SsTPiPm9Os+fbwJ/ngq7mUKhPIoJva0apDVyq57VdcPaQuX839jnz5CzBzyhe8/+bLvP7+lwDcec8woi+eZ/a3E9Ok+fgjDzF/8XKCgoNp3bwx3Xr0oqZbOb/68gv8/Pz4dcc/zJg+lReff4ZJU6aSL18+Xnx5BH9s/50/tv+eJs3HHnmIhY5mq2aN6d6jFzVD4jUnfvkFfv5+/L7jH2ZMm8oLzz3D5G+M5kvDR7D9KjRfeOoRpsxaREBgMD1vaEHHLj0S7HkdGFyWMR98xqcfJPyjdOrkCcaOGsmiVT+ACN3bN6Nj1x74+fmnqukj8Ey36tw/eSuHz0Qz5Z4w1vx1lN3HzsfFKVcsP0NalmfwhM2cvXgZ/wK5ATh6NppBX2zikkvJnzsXMx9ozJq/jnH03xivy5wWTJ9jzqs6ZlbN0Q/wvsqSRYhISn8MKgD9M+hZ6WbLpg1UrFSZChUrkSdPHm7q248lixYkiLNk0QJuu2MAAL1u6sPa8NWkZ5vd7ds2E1y+EkHlKpA7Tx469ejD9ysT+A4lrFlr8uUvAECd+mEcORQZF9a4RRsKFCyUJs1NGzdQqXIVKlYy5ex7az8WLZiXIM6iBfO5Y8AgAG66uS/h361CVSlYsCDNW7QkX758adasnEhzYTKad8Zq9km/5i9bNlKhYmXKVzCaPW+6heVLEn6eZctVoGatOvj4JPxJrlm9glZtO+DnXww/P39ate3AmlXLPWrWDirCgRPniTh1kctXlGXbj9C2RskEcW5qGMj0jQc5e/EyACfPm32xL19RLrnMdymPb9ZMs0nnNgmZQmYZxzeByiLyC457chGZKSJ/isgUcd62iOwVkRLOeZiIhDvnw0VkgoiEi8huERkW+2AReV5E/haRdUB1t/uVRWSpiGwWkbUiUsO5P1FEPhGRn4G3RaSNiPziHFtFpLCT31bOvcdEJJ+IfCkivzlx2jnPGiwi80VkNbDKuZ4rIiucsjwkIo87aX4SkWJX8/KiIiMJDA6Ouw4MCiIqMiJJnKBgs6eQr68vRYoW5cTx4wDs37eHds3D6Nm5PT+uX+eV5tHDUZQOCIq7LlUmkKOHo1KMP3/G1zRrk2bnygmIjIwguGx8OYOCgomMiEgax62cRYsU5bhTzqvSjIggKDiRZqJ3a+IkfLfp0TwUFUlgULxmQGAQh6MiU0mRKG1gwrSHvEhbqnBeDp+J30Pq8JloShbOmyBO+eIFKFe8AF/e1ZCvhobSvHL817V0kbxMu68xSx5rwcT1+zKt1hiLj0iqR3aQWbWfZ4DaqlrfaVbPA2oBkcB6oAXg6VdbA2gHFAb+EpGPgbqYzXPqY/K+BYhtP44H7lPVf0SkCfAR8dujBmOazS4RWQA8qKrrRaQQcNHJb1zTX0SeAFRV6zhGdrmIxO5r3RCoq6onRGQwZv/qBkA+YCfwtKo2EJF3gYHA2OQKJyL3AvcCBJct5+FVeE/pMgH8smM3xYoX55etmxl4W1/Wb9xG4SIZ5y5sydxp7PhtK598syjDnmnJenL5COWKFeCer7ZSqkhevhjckFs+3sC/0Zc5fCaafp9soGShPLxzW11W/nGEE+cuZV5mcl6rOssGZDao6kFVvQL8gmnGemKRqkar6jHgCFAaaAXMUdXzqnoGZ4cxx8g1x2ye8wtml7EAt2fNUFWXc74eeMepjfqp6uVktFsCXwOo6p/APiDWOK5Q1RNucb9T1bOqehQ4DcS2l35LrZyqOl5Vw1Q1rHiJEgnCAgIDiTx4MO46MiKCgMCgJHEiDpp9zC9fvsyZ06cpVrw4efPmpVjx4gDUbxBKhYqV2Lnz75SyEUfJ0gEcjoqvQR05FEnJ0gFJ4m1YH86XH41h9Kffkidv3iThaSEwMIiDB+LLGRFxkMCgoKRx3Mp5+sxpijvluyrNoCAiDibSTPRuTZyE7zY9mmUCAomMiNeMioygdIB3gxxlAgKJjEyYtowXaY+cjaZ0kfjPp3SRvBw9m3A30iNnolnz9zEuX1EiT11k3/HzlCueP0Gco//GsPPIvzQs5+dVfq8Gs7Y69SM7yCrj6P6puIivsV52y0PijpyU0iSHD3BKVeu7HTXdwuM8u6rqm8DdQH5gfWzzOw0k9hLrns8rbtdXPOQ5RRqENmL3rp3s27uHmJgY5sycRpduCcezunTrwdQpZuRy/pxZtGrTDhHh2NGjuFzm78DePbvZvWsnFSpU8qgZUrchB/buIuLAXi7FxLB84SxadeiaIM5f27fxxguPMvrTbylWomQKT/Ke0LBG7Nr5D3v3mHLOnD6Nbj0SbgjXrUdPpkz+CoA5s2fSpm37dPWBhYY1Ymcize7JaH4dqzkr/Zr1GoSxZ/dO9u8zmgvmzKBjV+/GJ9u078ja71Zy6tRJTp06ydrvVtKmfUeP6bZHnKVc8QIE+uXD10foXKsU4X8dSxDnuz+PElbeDwC//LkpX7wAEScvUKpwXvL6mp9l4Xy+NCjnx97j5xNLZCji4V92kFnN6rOY5rAn9gKhwBKgjxfxvwcmisgbmLz3BD5V1TMiskdEblHVGU6fZl1V3Zb4ASJSWVV/A34TkUaY5vuBRPldC9wBrHaa0+WAvzBN6kzH19eXN8eM45Ybu3PF5aL/gMHUCKnFG68Op37DULp278kdg4bwwN2DaVS3Bn7+/nw2cQoAP65fy5uvvULu3L6Ijw+jx32IfzHPXZ++vr7838ujGDa4D1euuOjZ904qV6vJp++OpGadBrS+oRvvvfkSF86d49mHzWBFmcBgxoyfCsA9/bqyb/ffXDh3jh4tQnj+jfdp1rqDR80xY9/nxh5dcLlcDBh8FyEhtXj1lZdo2DCM7j17Meiuodx910Dq1qyKf7FiTJz8bVz6kGoVOXvmDDExMSxcMI95i5YlGOlOSfOdse/Tq3sXXFdcDBx0FyG1ajFi+Es0DA2jR89eDL5rKEMHD6R2zar4+xdj0tfxmjWqxmsumD+PBYuWJRjpTknz1bfGMuCWnrhcLvr1H0T1GiGMeeMV6tQPpVPXHmzbsol7Bvbj9OmTrFy2mHfefJVVP2zFz78Yw558lp43tADgkSefw8/f8+fpUuWtxX/z0Z318RFh3i+R7D56jvvbVuSPyLOs+fsYP+w6QbPKxZj1QBNcV5SxK3Zy+sJlmlQqzOOdqoIqiDDph/3sPJLJnuNzYLNa0jPCmeqDRb7B9BFeAA679ed9gNlLdqKItAK+AM4A4UCYqrZNPEVHRH4HeqjqXhF5HhiEaWrvB7ao6mgRqQh8jGlO5wamquoIEZkILFTVmc6z3sf0ZV4BtgODnfNlQHFgovOcj4EwTO32cVX9zuljDFPVh5xnJb7e61wfSxyWGvUbhuqqtT+n6f2mF7tNQuZx7GzmDl4kR3Zsk/DL8A6bVTUsvc/x5vtfolDuDNFKC5lmHC3eY41j5mGNY+aRccYxTFd7+P4XL+Sb5cbRLh+0WCzZinU8YbFYLClgjaPFYrEkxm6TYLFYLEnJziWCqWGNo8ViyXauJ8cTFovF4jXpdVkmIl1E5C8R2SkizyQTnldEpjnhPzueuFLFGkeLxZLtpMc4ikgu4EOgKxAC3C4iiWfmDwVOqmoV4F3gLU95ssbRYrFkO+lcPtgY2Kmqu1U1BpgK9E4UpzfwlXM+E+ggHtryts8xB7Bt65ZjJQrl3ncVSUsAxzzGylisptWMJXn34mlk65bNywrkkRIeouUTkU1u1+NVdbxzHoRZAhzLQaBJovRxcVT1soicxqyIS7Hs1jjmAFT1qrw4iMimLF9SZTWtZgajql2yUz8lbLPaYrFc60QAZd2ug517ycZxvPgXBVL1YGyNo8ViudbZCFQVkYoikgfjEHt+ojjzMQ5rAPoCq9WDYwnbrL62Ge85itW0mjlOM0Nx+hAfwnjWygVMUNXtIjIC4wFsPsb712QR2QmcwBjQVLFeeSwWiyUZbLPaYrFYksEaR4vFYkkGaxwtFoslGaxxtKQZEcnS742nlQwWS2ZgjaPFa0SkLoCzxW5WUjmL9f7TBjmr/7hdq9iXdI0iIrVE5N4s1PMBRorI3VmoKc68tXkicnsW6oZi9i7PMkMiIs1F5Oms0Ir94yYibUWkvIiUygrdaw1rHK8xHIPhAzQAqmS2Vuy584OajVlZkCWoIQZ4A7MGOKuMVStgjIjkzsJacgwQIiKFsqLWKiJDgK+B14D/E5Fama15rWGN47VH7A/2B6CLiNyYWUKqqiLS2M333ffAfSLSPrM0YxGRMDdDuB0YJCKVssJYqepYYAPQxslLVvxOjgKlgXqeVm5cDe4GV0TKYJxGNAJeB04C91sDmRBrHHM4IhIkImHOeRVM07auqu4GXgDqikjuzPgBi0gBoDUw31mBUBx4DLOfd6wfvYzWjP0RPw4sFJHnMD/eL4H/iYhPZtSsRKSFiDwkIp2cW/sx/gEzrY9VROqIyHzH6O8DPgGeERH/DNaRWIMrIsOAEUAvIJeq7gAWAZGYGmTNjNS+lrHLB3M+fTDOOx8B8mMWy38pIt9g/voHAEVV9Zj7j+BqiX2GiFQDegDjgO+AWhiHoi6gqIh8oKrn06OVnC7GacABVe0vIvWB5sACTO2xolt/WbrL6qZdFvMuywBtRaQvMB34RERmqeoPGaGTDDuBP4EXnT806zAOEooBJ0XEJyMMs5th7IP5Pj0N1AVeBe5S1W2OfgzmD5EFQFXtkQMPnKWdzvkoYBrQ3LluAPQE5gBnMZ6Nc2WgdkeMQdoFPAKUcO77A/2csLfc85gRZcXU1PZgaonPAoWc+7UxP+odwKsZ/J5jvUg/53bvVUyt/AzwuHPPJwM12wLDgLpu77ULsAI4DHyTCd+hasBy4GnnOjfmj96XbnHyZuZ3+lo77NrqHI6IdAQewNQQSwN3qFOTEZF8GKPRGnhMM6AmJyKNgCnAAEyfW3mMkfxWVaOcOE2APqr6VHr13HQbYpwBLMX8cGObtyNU9bQTJwQYnFG6IlIDOAKooztJVT90C78V80eglaoezCDNxsAE4HcgGtgETFbVUyJSAuNW60nMH4E/06Hj3pR+AFMjd2Fq4sNVda1TW9wIbFDV+9JTrv8k2W2d7ZHyAZQDfgHCnOsXgFVAM9xqisB64IYM0hwATHS7vhkz+PMoUNItzh+Ykeurqj1ijG57TM2tMKY5t8wJy435EY8CPgCKOPfvArYBBdNZxlyY/tOTmEGmvsR3G9RMFPcroGUGvdtGmNphfef6FuAdTO3c3y3ebKBzBmn2BJZgaqelMYb3E4zBBzPuUD67v+s58bADMjmMRIMNx4DdwBUAVX0N0+ycCTR2BmKCMV/63enUDXROtwABItLO0ZztPLsOpp8KjBv6m1T1tDq/sKugCnAK03Q+i2lSNxeRoap6CfgJ44PvMqbWA2ZE9xZVPXeVmrH4qupx4H7gL+f/x4CSGAMGgIhUBWoAUenUi6UQppbf07meifnDVgMYKiJ5RKQ8pva4J71iTv6HYrodT6rqYWAh8Ddm1kFzVb2iZjDIkpjsts72SHpg5tk94Jx/iGlWx9baWgM/4/RXOfeKXaVObLdKQ8xo5WPO9bOYuYWDnbAfgI+AzzO4nEWBtcAA57oZxmAOda59AL8M1BPMapuNQHdM3+odGOM0GDMgcp74vs4CuNXo0qFbLLYcmD8CvwND3MJvwa3Gmt7P0+06P6aPeCXwP7f7tYCHgTLZ9R2/Fg7b55gDEZGWmFrFQ8CPmGbQPuAc0Bl4WE2fUUaMTnfHeEg+DfTH/GjmOzoDME3QJzGTsAdgfmTR6dFMpH87cDdmw6RpTp/cj8D9Gr+BUoYiIj0xO9YVcv5frqqvOH241VT11wzU6gU8hek6eEZVl4hIB0xf5heq+rFb3Fyq6rpKHfc+xjswn9dFTP9xT8wf1c2q+rkTJ7eaGrolJbLbOtsj/gAK4oyKAi0wAyE3AUUw/WLDgQ4ZpCWYfqifgB7OvVDgEPCgc50b86PuBvyKmaCcLk3n/0aYGlt557onsAa41bluBnTK4HfbFfgMmAjUxxjGNphm7SXgqeTymk7NWpg+xjrA7c47vNEJ64ypQQaTsSPhQx2d/pj+6peASpja6VRgYHZ+x6+lI9szYA/ngzBNu5nODynWQLbC9PfdkYm6nwBN3TT7Y/r5+jvXvs4PLCSD9HpgpuS8iVmFcqdzvxtm5PZ2t7gZNVWohWMobsRMLt+DM4CFGfT6CGiUwe81CDMqvdDtXl9Mn+4tznXxDNb0BWYAHZ3rYphWwCvOdR9sU9r795ndGbiej8Q/fmAMZvJxCGaZIMAkTH9gWdI5lzE2PRBIfB/mS5imV0HnuhFmtPRgJhiMFk7tpaxTczoAfAsMcsJ7AE0z4T3fA7ztdn2Lo13Nuc6dwXoVnf/vwqw+ucPt87wNM9JfOgN0isV+RphmczlgJPA/t8+zEma0WsjAGur1cNgVMtmE20qUZkBVIFJVn3CWy70CvCMihTD9Rh1U9UBqz/OgVR5jiPeKSDdMre0fEcmP+bGOxWw+FIFpfvYE7sTUINOFWzmbY2qp92JqVa9jmreDgVed/rYJ6dVLgRNAaWeJpajqDGc03hdAM7DvTUQKA++L2Q96uDP7oClwRURmqupUEQlXM3KcXvyBu5zvTEGgN2YkujOwQ0Q2YxYM+GImeF/MAM3rBjuVJ5twDEY34GNMX99QEZmFMVw/YvqO3gcWq1n/elU4TiOWAcHOksDngftUtQ9mqdq3mJrGe5hR6e6YqUE3kgFLyZxyNsGsOnlYVX/ETOP5Tc10mh8xzewf06vljoi0E5E7RKQtMA9TpjeAGiLSCuhA5nz/z2P6huuKyNOOwd/i6PVz4hxJj4DbdK89mInk7YD1qnpBVb/CdCHcjamlPwE8YQ3jVZDdVdfr6cBMPK7hnAtmgnE35zoPZtrOO851AZymF1c/0Vow/VyjMU3pJzA/mGJuceYAL7pd18YMFNTJwHJ3wqzOeMq5rowxiF9impgdM/g9h2FG99/D9Lk9COTFbEP6JWbKTvcM1mxO/HLAXEA9R/th5949QK0M0HFfEhiImXvaH/NH7jG3sDqYGnpAVn/P/ytHtmfgejmAfJgaxdtAbefedOLn9OVyftSfZbCuH2YS8ynMoMdsnBFTJ/wuTM0i9jovTn9kBuejN2bCdT/nuhamFts2g3VaOe+4nXPdELMWfJhbnAwdlAAqOoZ3L86IvvPH7l6Mc4nHM+F9PgJsxcxk8MV0h8x2NLth+pJtH2M6DtvnmEWo6kURmYsZMewtIscwS+O+EpEIVV3q9FdVd9bYHlfnV5BOzmB+RLUxa4g/AMY665T/xdRo/s8tn9GYlSgZiqrOE5HLwAhnjt3XGE87GYaIVMLUlAdiaqZgprW8CIwSkTKq+hzpbNYm0uyF+aPXFfgN+FZEblXV30VkL6ZJvz4DdNznMd6KmZvaXVXPiEhpzGT6i5g5qRWAvpr121n8p7CTwLOAWNdTjnOF/ph5dTHAp5jmz5eYaTydMU2jxZmQh/KYddnPYmoz7THNrsWqujIjXYB5yEdvTN/fDcBhvcpJz8k8N9ZIdcf4KnwEM2Vmu+NgoR7m+745I/QczfqYeZO3q9MvLCKTMaPG3wNDnLDv06njbhhrYJrS+TF/3KpjaotTMd0n/2LWomfYH4DrFWscswi3H+8DmFHgfpgVL+9hmkb+mPGLXzIxDw2Ab4D3VfWjzNLxIh8lVTXDaqcpGKkpGOcWD2gGrnhJpFsT4xvxR8yATytMF4ZipvAcU9XVGah3D2Y6VOz0IDBzKSMwf/TeUtWNGaV3vWONYxbgTMmZjJlr96NzrwnG440L47/v9yzKS0NMLbUDsDcraouZTSpGqiGmP66RGucWGa1bCDMVqT+m1vano31GVb/NYK02mOWkT6vqbjFbHRxVVZeIdMbMBuij6ZjyZUmIncqTNSjG40thiGtm/4zpo7oMXMiyjKhuwQwa7PkvGEaHA5jVNYMwI+2PYEakh2GWIWa4YQRQ1X9V9QPMoNJszFzDh8mAPs3Y6TpitoXIh2lpVAeaOXNCDznRhmAM493WMGYstuaYRYjIw5ipPNNUdYcz+fsxjFPT37I4L1nSv5jViEgeVY0R47D3K8w0mlVZoJsLM6H9I+B1VZ2Xzue59zEGYLyDC6ZbJj/G8fBmJ7w+cEJV96dH05IUaxyzCBEJwky2boep1fQDHsqMwZfrlYw2UmnULgiUUtU9GfXHR8xmWN0wK3z+xiwQeAsz0Xx+bBeNJXOwxjELcX5AjTD9YnudprUlA8kMI5VViIivql52zm/F/DHtg1kvXUVVO4tIMYyRPAyMVLvyJdOwxtFiyQE4U3Q6YJrMJxyfk8cw/ia7YdzKXXLmch7GOOTNiPXZlhSwAzIWS86gnnPcKiJFMCtslgJdVLWzYxiHYqbsXLaGMfOxK2QslmwkdoGAGi/olTDzGGNUdYKziqmfM+jSDrPU83bNQE/slpSxxtFiyUZil/g5gy83YPYhv1NEcmP6FmMwCwcKYNalX7WHJkvasMbRYslmRKQcZk14V1U9JyL9Mcs7o4FRztLTq95fxnJ12D5HiyWLcfPHGMtZjNemtgCq+o1z7wmMM9tcONvzWrIOW3O0WLKQRBO8K2AGVw6KyCQgVEROquoPmBU/xYEFtsaYPdipPBZLFpHIMD6B2aKiFPAoZl12H4xnpr2YKTy9VfXPbMmsxRpHiyWrcbZueBLjeKQtxjnvK5ipO1WAmsBGVd2TPTm0gG1WWyyZTqIaY1XMtg0+qhoDLHf6IN8ASqjqZxiHJJZsxg7IWCyZjJthbKKq/2Ac054XkYEiUkBVl2G8lQ8WkaLZmVdLPLZZbbFkASLij3E0/KuqPi0itwMtgQ3ATGcKTwFVPZ+tGbXEYWuOFkvWcBqzV095EXnNcYa7FjOfsbcTJ8v8elo8Y2uOFksmIiJ3ABGqGi4iPkA14HVgg6q+KSJ9gXWO81pLDsLWHC2WDMQxgO6UBCaJSEtnqeBOYAVwr4j8n6rOtIYxZ2KNo8WSgbitla4lInlVdSxmf+4vRaSV46/xX2ASMC37cmrxhJ3KY7FkAM7Ojq1U9T0ReQAzXSdSRD5R1ckicgV4X0S2YBxMtLdbG+RsrHG0WNKJM0+xBNDd2fMl1vVYX6CTiBRW1Yki8gtQBuPBe1e2ZdjiFdY4WizpQERKAf6qukJE2mO8eR9U1VPA5yJyEWjt7CA4VVW3Z2N2LWnA9jlaLOmjKPCBiHwJNAHGAeUc/4yo6teYuYw1MVv0Wq4RbM3RYkkHqvqPiGwD7gWeVtUpInIC+J+zbHCcqn4uIkVU9Uw2Z9eSBqxxtFjSzyfANuBxETnhbHlwBPhIRI6r6tfWMF57WONosaQTVd0J7BSRU8BI5/98mC0O1mdj1izpwBpHiyWDUNUFInIJGA2cA4Zat2PXLnb5oMWSwTgj2KqqR7M7L5arxxpHi8ViSQY7lcdisViSwRpHi8ViSQZrHC0WiyUZrHG0WCyWZLDG0WKxWJLBGkdLhiEiLhH5RUR+F5EZIlIgHc+a6HjJRkQ+F5GQVOK2FZHmV6GxV0RKeHs/UZx/06g1XESeTGseLdmHNY6WjOSCqtZX1dqY1SH3uQeKyFUtOlDVu1X1j1SitAXSbBwtltSwxtGSWawFqji1urUiMh/4Q0RyicgoEdkoIr+KyP/A+EQUkQ9E5C8RWQmUin2QiISLSJhz3kVEtojINhFZJSIVMEb4MafW2kpESorILEdjo4i0cNIWF5HlIrJdRD4HxFMhRGSuiGx20tybKOxd5/4qESnp3KssIkudNGtFpEaGvE1LlmOXD1oyHKeG2BVY6txqCNRW1T2OgTmtqo1EJC+wXkSWAw2A6kAIUBr4A5iQ6Lklgc+A1s6ziqnqCRH5BPhXVUc78b4B3lXVdSJSDliGcRn2MmYzqxEi0h0Y6kVxhjga+YGNIjJLVY8DBYFNqvqYiLzkPPshYDxwn+OtpwnwEWaHQcs1hjWOlowkv+PtGkzN8QtMc3eD2xrjTkDd2P5EjD/EqkBr4FtVdWG2F1idzPObAt/HPktVT6SQjxuAEOOgG4AiIlLI0bjZSbtIRE56UaZhInKTc17Wyetx4Arxe8B8Dcx2NJoDM9y083qhYcmBWONoyUguqGp99xuOkTjnfgt4WFWXJYrXLQPz4QM0VdWLyeTFa0SkLcbQNlPV8yISjvG2kxzq6J5K/A4s1ya2z9GS1SwD7heR3AAiUk1ECgLfA/2cPskAoF0yaX/CbDlQ0UlbzLl/FijsFm858HDshYjUd06/B/o797oC/h7yWhQ46RjGGpiaayw+mD1icJ65zvHZuEdEbnE0RETqedCw5FCscbRkNZ9j+hO3iMjvwKeYFswc4B8nbBLwY+KEjpebezFN2G3EN2sXADfFDsgAw4AwZ8DnD+JHzV/BGNftmOa1p93/lgK+IrIDeBNjnGM5BzR2ytAeGOHcvwMY6uRvO9Dbi3diyYFYrzwWi8WSDLbmaLFYLMlgjaPFYrEkgzWOFovFkgzWOFosFksyWONosVgsyWCNo8VisSSDNY4Wi8WSDP8P+GlFG+AHR2wAAAAASUVORK5CYII=\n",
       "datasetInfos": [],
       "metadata": {},
       "removedWidgets": [],
       "type": "image"
      }
     },
     "output_type": "display_data"
    }
   ],
   "source": [
    "plot_confusion_matrix(rnd_forest_predictions, normalize=True)"
   ]
  },
  {
   "cell_type": "markdown",
   "metadata": {
    "application/vnd.databricks.v1+cell": {
     "cellMetadata": {
      "byteLimit": 2048000,
      "rowLimit": 10000
     },
     "inputWidgets": {},
     "nuid": "b49d33e2-8f87-422b-80b3-107626cd928c",
     "showTitle": false,
     "title": ""
    }
   },
   "source": [
    "### Save the model to the filesystem"
   ]
  },
  {
   "cell_type": "code",
   "execution_count": 0,
   "metadata": {
    "application/vnd.databricks.v1+cell": {
     "cellMetadata": {
      "byteLimit": 2048000,
      "rowLimit": 10000
     },
     "inputWidgets": {},
     "nuid": "2994259a-4146-4972-a3bb-9aa9b6eb934d",
     "showTitle": false,
     "title": ""
    }
   },
   "outputs": [],
   "source": [
    "if SAVE_COMPUTATIONS and not LOAD_PRETRAINED_MODELS:\n",
    "    save_pyspark_model(rnd_forest_model, RANDOM_FOREST_MODEL_PATH)"
   ]
  },
  {
   "cell_type": "markdown",
   "metadata": {
    "application/vnd.databricks.v1+cell": {
     "cellMetadata": {
      "byteLimit": 2048000,
      "rowLimit": 10000
     },
     "inputWidgets": {},
     "nuid": "c514126d-8d3b-416a-a03e-7e84ee3fdfa4",
     "showTitle": false,
     "title": ""
    }
   },
   "source": [
    "## Hyperparameters tuning\n",
    "\n",
    "Here we define a pipeline that summarizes and includes all the steps that we have done so far:\n",
    "- the previously defined data encoding pipeline\n",
    "- a Machine Learning model instance\n",
    "- a `IndexToString` that converts the numerical predictions in their label version\n",
    "\n",
    "In addition we have a **K-Fold Cross Validation** step in order to tune some hyperparameters and to get a better estimation of the generalization performance of the model."
   ]
  },
  {
   "cell_type": "markdown",
   "metadata": {
    "application/vnd.databricks.v1+cell": {
     "cellMetadata": {
      "byteLimit": 2048000,
      "rowLimit": 10000
     },
     "inputWidgets": {},
     "nuid": "1e6c273e-4d8a-4be2-aede-1dca05476355",
     "showTitle": false,
     "title": ""
    }
   },
   "source": [
    "### Random Forest model\n",
    "\n",
    "For the Random Forest model we have seen that without configuring any hyperparameter, we can still achieve decent results in predicting some classes.\n",
    "\n",
    "Let's see whether tuning the **max depth** of the trees (`maxDepth`) and the **number of trees** (`numTrees`) can result in better overall performance."
   ]
  },
  {
   "cell_type": "code",
   "execution_count": 0,
   "metadata": {
    "application/vnd.databricks.v1+cell": {
     "cellMetadata": {
      "byteLimit": 2048000,
      "rowLimit": 10000
     },
     "inputWidgets": {},
     "nuid": "761b325f-b99f-41c4-b54c-70e61637b2fb",
     "showTitle": false,
     "title": ""
    }
   },
   "outputs": [],
   "source": [
    "def random_forest_pipeline(dataframe: DataFrame,\n",
    "                           numerical_features: List[str],\n",
    "                           categorical_features: List[str],\n",
    "                           target_variable: str,\n",
    "                           features_col: str,\n",
    "                           with_std: bool = True,\n",
    "                           with_mean: bool = False,\n",
    "                           k_fold: int = 5) -> CrossValidatorModel:\n",
    "  \n",
    "    from pyspark.ml.classification import RandomForestClassifier\n",
    "    from pyspark.ml.tuning import CrossValidator, ParamGridBuilder\n",
    "    from pyspark.ml.evaluation import MulticlassClassificationEvaluator\n",
    "    from pyspark.ml.feature import IndexToString\n",
    "    from pyspark.ml import Pipeline\n",
    "  \n",
    "    data_encoder = encoding_pipeline(dataframe,\n",
    "                                     numerical_features,\n",
    "                                     categorical_features,\n",
    "                                     target_variable,\n",
    "                                     with_std,\n",
    "                                     with_mean)\n",
    "  \n",
    "    classifier = RandomForestClassifier(featuresCol=features_col, labelCol=LABEL_COL)\n",
    "    \n",
    "    predictions_idx_to_str = IndexToString(inputCol=PREDICTION_COL,\n",
    "                                           outputCol=PREDICTED_TARGET_VARIABLE_COL,\n",
    "                                           labels=data_encoder.stages[0].labels)\n",
    "\n",
    "    stages = [data_encoder, classifier, predictions_idx_to_str]\n",
    "\n",
    "    pipeline = Pipeline(stages=stages)\n",
    "\n",
    "    # We use a ParamGridBuilder to construct a grid of parameters to search over.\n",
    "    # With 3 values for maxDepth and 3 values for numTrees\n",
    "    # this grid will have 3 x 3 = 9 parameter settings for CrossValidator to choose from.\n",
    "    param_grid = ParamGridBuilder() \\\n",
    "        .addGrid(classifier.maxDepth, [3, 5, 8]) \\\n",
    "        .addGrid(classifier.numTrees, [10, 50, 100]) \\\n",
    "        .build()\n",
    "\n",
    "    evaluator = MulticlassClassificationEvaluator(labelCol=LABEL_COL,\n",
    "                                                  predictionCol=PREDICTION_COL,\n",
    "                                                  metricName='accuracy')\n",
    "\n",
    "    cross_val = CrossValidator(estimator=pipeline, \n",
    "                               estimatorParamMaps=param_grid,\n",
    "                               evaluator=evaluator,\n",
    "                               numFolds=k_fold,\n",
    "                               collectSubModels=True)\n",
    "\n",
    "    cv_model = cross_val.fit(dataframe)\n",
    "\n",
    "    return cv_model"
   ]
  },
  {
   "cell_type": "code",
   "execution_count": 0,
   "metadata": {
    "application/vnd.databricks.v1+cell": {
     "cellMetadata": {
      "byteLimit": 2048000,
      "rowLimit": 10000
     },
     "inputWidgets": {},
     "nuid": "19c1ada8-146c-48f0-a273-d0f105c67a3f",
     "showTitle": false,
     "title": ""
    }
   },
   "outputs": [],
   "source": [
    "rnd_forest_cv_model = CrossValidatorModel.load(RANDOM_FOREST_CROSS_VALIDATION_MODEL_PATH) if LOAD_PRETRAINED_MODELS \\\n",
    "                      else random_forest_pipeline(train_df,\n",
    "                                                  NUMERICAL_FEATURES,\n",
    "                                                  CATEGORICAL_FEATURES,\n",
    "                                                  TARGET_VARIABLE_COL,\n",
    "                                                  FEATURES_COL)"
   ]
  },
  {
   "cell_type": "code",
   "execution_count": 0,
   "metadata": {
    "application/vnd.databricks.v1+cell": {
     "cellMetadata": {
      "byteLimit": 2048000,
      "rowLimit": 10000
     },
     "inputWidgets": {},
     "nuid": "2a4eb261-8d61-4f37-bc5b-ccc00ae44291",
     "showTitle": false,
     "title": ""
    }
   },
   "outputs": [
    {
     "output_type": "stream",
     "name": "stdout",
     "output_type": "stream",
     "text": [
      "Best model according to k-fold cross validation:\n - numTrees=[50]\n - maxDepth=[8]\n"
     ]
    }
   ],
   "source": [
    "rnd_forest_cv_model_obj = rnd_forest_cv_model.bestModel.stages[-2]._java_obj\n",
    "\n",
    "print('Best model according to k-fold cross validation:')\n",
    "print(f' - numTrees=[{rnd_forest_cv_model_obj.getNumTrees()}]')\n",
    "print(f' - maxDepth=[{rnd_forest_cv_model_obj.getMaxDepth()}]')"
   ]
  },
  {
   "cell_type": "code",
   "execution_count": 0,
   "metadata": {
    "application/vnd.databricks.v1+cell": {
     "cellMetadata": {
      "byteLimit": 2048000,
      "rowLimit": 10000
     },
     "inputWidgets": {},
     "nuid": "2537e00c-3a9a-4ce4-9baf-9d5cb5287503",
     "showTitle": false,
     "title": ""
    }
   },
   "outputs": [],
   "source": [
    "if SAVE_COMPUTATIONS and not LOAD_PRETRAINED_MODELS:\n",
    "    save_pyspark_model(rnd_forest_cv_model, RANDOM_FOREST_CROSS_VALIDATION_MODEL_PATH)"
   ]
  },
  {
   "cell_type": "code",
   "execution_count": 0,
   "metadata": {
    "application/vnd.databricks.v1+cell": {
     "cellMetadata": {
      "byteLimit": 2048000,
      "rowLimit": 10000
     },
     "inputWidgets": {},
     "nuid": "a15a024d-1a7e-4c57-bbac-71fda0413f91",
     "showTitle": false,
     "title": ""
    }
   },
   "outputs": [],
   "source": [
    "rnd_forest_cv_predictions = rnd_forest_cv_model.transform(test_df)"
   ]
  },
  {
   "cell_type": "code",
   "execution_count": 0,
   "metadata": {
    "application/vnd.databricks.v1+cell": {
     "cellMetadata": {
      "byteLimit": 2048000,
      "rowLimit": 10000
     },
     "inputWidgets": {},
     "nuid": "897e235b-827e-46a7-8d3e-1268f476b79f",
     "showTitle": false,
     "title": ""
    }
   },
   "outputs": [
    {
     "output_type": "stream",
     "name": "stdout",
     "output_type": "stream",
     "text": [
      "Accuracy: 0.546365169096499\nPrecision: 0.527042400491183\nRecall: 0.5469340629492113\nF1-score: 0.5368040199386482\n"
     ]
    }
   ],
   "source": [
    "eval_predictions(rnd_forest_cv_predictions)"
   ]
  },
  {
   "cell_type": "code",
   "execution_count": 0,
   "metadata": {
    "application/vnd.databricks.v1+cell": {
     "cellMetadata": {
      "byteLimit": 2048000,
      "rowLimit": 10000
     },
     "inputWidgets": {},
     "nuid": "fc99ff70-0e25-4ae7-93f3-9d1cd9195601",
     "showTitle": false,
     "title": ""
    }
   },
   "outputs": [
    {
     "output_type": "display_data",
     "data": {
      "image/png": "[encoded data removed]"
     },
     "metadata": {
      "application/vnd.databricks.v1+output": {
       "addedWidgets": {},
       "arguments": {},
       "data": "data:image/png;base64,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\n",
       "datasetInfos": [],
       "metadata": {},
       "removedWidgets": [],
       "type": "image"
      }
     },
     "output_type": "display_data"
    }
   ],
   "source": [
    "plot_confusion_matrix(rnd_forest_cv_predictions, normalize=True)"
   ]
  }
 ],
 "metadata": {
  "application/vnd.databricks.v1+notebook": {
   "dashboards": [],
   "language": "python",
   "notebookMetadata": {
    "mostRecentlyExecutedCommandWithImplicitDF": {
     "commandId": 2191736314611276,
     "dataframes": [
      "_sqldf"
     ]
    },
    "pythonIndentUnit": 2
   },
   "notebookName": "project",
   "widgets": {}
  }
 },
 "nbformat": 4,
 "nbformat_minor": 0
}
